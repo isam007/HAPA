{
 "cells": [
  {
   "cell_type": "raw",
   "metadata": {},
   "source": [
    "---\n",
    "format:\n",
    "  html:\n",
    "    page-layout: full\n",
    "    code fold: false\n",
    "    toc: true\n",
    "    toc_float: true\n",
    "    toc-title: Table Of Contents\n",
    "    toc-location: left\n",
    "    theme: cosmo\n",
    "    self-contained: true\n",
    "---"
   ]
  },
  {
   "cell_type": "markdown",
   "metadata": {
    "id": "G_dqgzdxHhnz"
   },
   "source": [
    "# Lab 7: Heart Attack"
   ]
  },
  {
   "cell_type": "markdown",
   "metadata": {},
   "source": [
    "# Setup"
   ]
  },
  {
   "cell_type": "markdown",
   "metadata": {
    "id": "RhmdTgAnHn3-"
   },
   "source": [
    "## Importing dependencies"
   ]
  },
  {
   "cell_type": "code",
   "execution_count": 1,
   "metadata": {
    "id": "-HVXYrJLUlb-"
   },
   "outputs": [
    {
     "name": "stdout",
     "output_type": "stream",
     "text": [
      "Looking in indexes: https://pypi.org/simple, https://pypi.ngc.nvidia.com\n",
      "Requirement already satisfied: graphviz in d:\\juniotech sf_2024\\venv\\lib\\site-packages (0.20.3)\n",
      "Note: you may need to restart the kernel to use updated packages.\n"
     ]
    },
    {
     "name": "stderr",
     "output_type": "stream",
     "text": [
      "\n",
      "[notice] A new release of pip is available: 23.0.1 -> 24.2\n",
      "[notice] To update, run: python.exe -m pip install --upgrade pip\n"
     ]
    }
   ],
   "source": [
    "pip install graphviz"
   ]
  },
  {
   "cell_type": "code",
   "execution_count": 2,
   "metadata": {},
   "outputs": [
    {
     "name": "stdout",
     "output_type": "stream",
     "text": [
      "Looking in indexes: https://pypi.org/simple, https://pypi.ngc.nvidia.com\n",
      "Requirement already satisfied: pandas in d:\\juniotech sf_2024\\venv\\lib\\site-packages (2.2.3)\n",
      "Requirement already satisfied: pytz>=2020.1 in d:\\juniotech sf_2024\\venv\\lib\\site-packages (from pandas) (2024.2)\n",
      "Requirement already satisfied: tzdata>=2022.7 in d:\\juniotech sf_2024\\venv\\lib\\site-packages (from pandas) (2024.2)\n",
      "Requirement already satisfied: numpy>=1.22.4 in d:\\juniotech sf_2024\\venv\\lib\\site-packages (from pandas) (2.1.2)\n",
      "Requirement already satisfied: python-dateutil>=2.8.2 in d:\\juniotech sf_2024\\venv\\lib\\site-packages (from pandas) (2.9.0.post0)\n",
      "Requirement already satisfied: six>=1.5 in d:\\juniotech sf_2024\\venv\\lib\\site-packages (from python-dateutil>=2.8.2->pandas) (1.16.0)\n",
      "Note: you may need to restart the kernel to use updated packages.\n"
     ]
    },
    {
     "name": "stderr",
     "output_type": "stream",
     "text": [
      "\n",
      "[notice] A new release of pip is available: 23.0.1 -> 24.2\n",
      "[notice] To update, run: python.exe -m pip install --upgrade pip\n"
     ]
    }
   ],
   "source": [
    "pip install pandas"
   ]
  },
  {
   "cell_type": "code",
   "execution_count": 3,
   "metadata": {
    "id": "3tVu1Mg5MywI"
   },
   "outputs": [],
   "source": [
    "import pandas as pd\n",
    "import numpy as np\n",
    "from plotnine import *\n",
    "\n",
    "from sklearn.pipeline import Pipeline\n",
    "from sklearn.compose import make_column_selector, ColumnTransformer\n",
    "from sklearn.preprocessing import StandardScaler, OneHotEncoder, label_binarize\n",
    "from sklearn.model_selection import train_test_split, cross_val_score, cross_val_predict, GridSearchCV, StratifiedKFold\n",
    "from sklearn.metrics import accuracy_score, confusion_matrix,\\\n",
    "                            classification_report, precision_score, recall_score, f1_score, roc_auc_score, auc, roc_curve, make_scorer\n",
    "from sklearn.neighbors import KNeighborsClassifier\n",
    "from sklearn.tree import DecisionTreeClassifier\n",
    "from sklearn.linear_model import LogisticRegression\n",
    "\n",
    "import warnings\n",
    "warnings.filterwarnings('ignore')"
   ]
  },
  {
   "cell_type": "markdown",
   "metadata": {
    "id": "QF1SMvGUHrwr"
   },
   "source": [
    "## Reading in data"
   ]
  },
  {
   "cell_type": "code",
   "execution_count": 4,
   "metadata": {
    "id": "MJIY-nwEMpHs"
   },
   "outputs": [],
   "source": [
    "ha = pd.read_csv(\"https://www.dropbox.com/s/aohbr6yb9ifmc8w/heart_attack.csv?dl=1\")"
   ]
  },
  {
   "cell_type": "code",
   "execution_count": 5,
   "metadata": {
    "colab": {
     "base_uri": "https://localhost:8080/"
    },
    "id": "d75Ov1kMdQIh",
    "outputId": "2c1569a7-fdd2-497f-c6d7-18667309b948"
   },
   "outputs": [
    {
     "data": {
      "text/html": [
       "<div>\n",
       "<style scoped>\n",
       "    .dataframe tbody tr th:only-of-type {\n",
       "        vertical-align: middle;\n",
       "    }\n",
       "\n",
       "    .dataframe tbody tr th {\n",
       "        vertical-align: top;\n",
       "    }\n",
       "\n",
       "    .dataframe thead th {\n",
       "        text-align: right;\n",
       "    }\n",
       "</style>\n",
       "<table border=\"1\" class=\"dataframe\">\n",
       "  <thead>\n",
       "    <tr style=\"text-align: right;\">\n",
       "      <th></th>\n",
       "      <th>age</th>\n",
       "      <th>sex</th>\n",
       "      <th>cp</th>\n",
       "      <th>trtbps</th>\n",
       "      <th>chol</th>\n",
       "      <th>restecg</th>\n",
       "      <th>thalach</th>\n",
       "      <th>output</th>\n",
       "    </tr>\n",
       "  </thead>\n",
       "  <tbody>\n",
       "    <tr>\n",
       "      <th>0</th>\n",
       "      <td>63</td>\n",
       "      <td>1</td>\n",
       "      <td>3</td>\n",
       "      <td>145</td>\n",
       "      <td>233</td>\n",
       "      <td>0</td>\n",
       "      <td>150</td>\n",
       "      <td>1</td>\n",
       "    </tr>\n",
       "    <tr>\n",
       "      <th>1</th>\n",
       "      <td>37</td>\n",
       "      <td>1</td>\n",
       "      <td>2</td>\n",
       "      <td>130</td>\n",
       "      <td>250</td>\n",
       "      <td>1</td>\n",
       "      <td>187</td>\n",
       "      <td>1</td>\n",
       "    </tr>\n",
       "    <tr>\n",
       "      <th>2</th>\n",
       "      <td>56</td>\n",
       "      <td>1</td>\n",
       "      <td>1</td>\n",
       "      <td>120</td>\n",
       "      <td>236</td>\n",
       "      <td>1</td>\n",
       "      <td>178</td>\n",
       "      <td>1</td>\n",
       "    </tr>\n",
       "    <tr>\n",
       "      <th>3</th>\n",
       "      <td>57</td>\n",
       "      <td>0</td>\n",
       "      <td>0</td>\n",
       "      <td>120</td>\n",
       "      <td>354</td>\n",
       "      <td>1</td>\n",
       "      <td>163</td>\n",
       "      <td>1</td>\n",
       "    </tr>\n",
       "    <tr>\n",
       "      <th>4</th>\n",
       "      <td>57</td>\n",
       "      <td>1</td>\n",
       "      <td>0</td>\n",
       "      <td>140</td>\n",
       "      <td>192</td>\n",
       "      <td>1</td>\n",
       "      <td>148</td>\n",
       "      <td>1</td>\n",
       "    </tr>\n",
       "  </tbody>\n",
       "</table>\n",
       "</div>"
      ],
      "text/plain": [
       "   age  sex  cp  trtbps  chol  restecg  thalach  output\n",
       "0   63    1   3     145   233        0      150       1\n",
       "1   37    1   2     130   250        1      187       1\n",
       "2   56    1   1     120   236        1      178       1\n",
       "3   57    0   0     120   354        1      163       1\n",
       "4   57    1   0     140   192        1      148       1"
      ]
     },
     "execution_count": 5,
     "metadata": {},
     "output_type": "execute_result"
    }
   ],
   "source": [
    "ha.head()"
   ]
  },
  {
   "cell_type": "markdown",
   "metadata": {
    "id": "UBHStyYNeT3z"
   },
   "source": [
    "## Column Descriptions"
   ]
  },
  {
   "cell_type": "markdown",
   "metadata": {
    "id": "d-hDTYcTNEhU"
   },
   "source": [
    "age : Age of the patient\n",
    "\n",
    "sex : Sex of the patient\n",
    "\n",
    "cp : Chest Pain type\n",
    "- Value 1: typical angina\n",
    "- Value 2: atypical angina\n",
    "- Value 3: non-anginal pain\n",
    "- Value 4: asymptomatic\n",
    "\n",
    "trtbps : resting blood pressure (in mm Hg)\n",
    "\n",
    "chol : cholesterol in mg/dl fetched via BMI sensor\n",
    "\n",
    "restecg : resting electrocardiographic results\n",
    "- Value 0: normal\n",
    "- Value 1: having ST-T wave abnormality (T wave inversions and/or ST elevation or depression of > 0.05 mV)\n",
    "- Value 2: showing probable or definite left ventricular hypertrophy by Estes’ criteria\n",
    "\n",
    "thalach : maximum heart rate achieved during exercise\n",
    "\n",
    "output : the doctor’s diagnosis of whether the patient is at risk for a heart attack\n",
    "- 0 = not at risk of heart attack\n",
    "- 1 = at risk of heart attack"
   ]
  },
  {
   "cell_type": "markdown",
   "metadata": {
    "id": "vG-EpTe5eXTR"
   },
   "source": [
    "## Data Cleaning"
   ]
  },
  {
   "cell_type": "code",
   "execution_count": 6,
   "metadata": {
    "id": "p8YpGZajNDZr"
   },
   "outputs": [],
   "source": [
    "#mapping the CP categrories for clarity\n",
    "# Define a mapping for the new categories\n",
    "cp_mapping = {\n",
    "    0: 'typical angina',\n",
    "    1: 'atypical angina',\n",
    "    2: 'non-anginal pain',\n",
    "    3: 'asymptomatic'\n",
    "}\n",
    "\n",
    "# Replace values in the \"cp\" column with the new categories\n",
    "ha['cp'] = ha['cp'].replace(cp_mapping)\n",
    "\n",
    "# Display the updated dataset\n",
    "#ha.head()"
   ]
  },
  {
   "cell_type": "code",
   "execution_count": 7,
   "metadata": {
    "id": "IcodXkeMMr9a"
   },
   "outputs": [],
   "source": [
    "#mapping the restecg categrories for clarity\n",
    "# Define a mapping for the new categories\n",
    "restecg_mapping = {\n",
    "    0: 'normal',\n",
    "    1: 'abnormal',\n",
    "    2: 'prob/def'\n",
    "}\n",
    "\n",
    "# Replace values in the \"restecg\" column with the new categories\n",
    "ha['restecg'] = ha['restecg'].replace(restecg_mapping)\n",
    "\n",
    "# Display the updated dataset\n",
    "#ha.head()"
   ]
  },
  {
   "cell_type": "code",
   "execution_count": 8,
   "metadata": {
    "id": "Kty2q1_IZLdD"
   },
   "outputs": [],
   "source": [
    "# Define a mapping for the new categories\n",
    "sex_mapping = {\n",
    "    0: 'female',\n",
    "    1: 'male',\n",
    "}\n",
    "\n",
    "# Replace values in the \"sex\" column with the new categories\n",
    "ha['sex'] = ha['sex'].replace(sex_mapping)\n",
    "\n",
    "# Convert the \"sex\" column to object type\n",
    "ha['sex'] = ha['sex'].astype('object')\n",
    "\n",
    "# Display the updated dataset\n",
    "#ha.head()"
   ]
  },
  {
   "cell_type": "code",
   "execution_count": 9,
   "metadata": {
    "id": "IIjiyhk4Mr_o"
   },
   "outputs": [],
   "source": [
    "# Define a mapping for the new categories\n",
    "output_mapping = {\n",
    "    0: 'not_at_risk',\n",
    "    1: 'at_risk'\n",
    "}\n",
    "\n",
    "# Replace values in the \"output\" column with the new categories\n",
    "ha['output'] = ha['output'].replace(output_mapping)\n",
    "\n",
    "# Display the updated dataset\n",
    "#ha.head()"
   ]
  },
  {
   "cell_type": "code",
   "execution_count": 10,
   "metadata": {
    "colab": {
     "base_uri": "https://localhost:8080/"
    },
    "id": "h3EgbVO-lLaQ",
    "outputId": "811250b3-dfa2-4641-b5e7-a649178153ce"
   },
   "outputs": [
    {
     "data": {
      "text/html": [
       "<div>\n",
       "<style scoped>\n",
       "    .dataframe tbody tr th:only-of-type {\n",
       "        vertical-align: middle;\n",
       "    }\n",
       "\n",
       "    .dataframe tbody tr th {\n",
       "        vertical-align: top;\n",
       "    }\n",
       "\n",
       "    .dataframe thead th {\n",
       "        text-align: right;\n",
       "    }\n",
       "</style>\n",
       "<table border=\"1\" class=\"dataframe\">\n",
       "  <thead>\n",
       "    <tr style=\"text-align: right;\">\n",
       "      <th></th>\n",
       "      <th>age</th>\n",
       "      <th>sex</th>\n",
       "      <th>cp</th>\n",
       "      <th>trtbps</th>\n",
       "      <th>chol</th>\n",
       "      <th>restecg</th>\n",
       "      <th>thalach</th>\n",
       "      <th>output</th>\n",
       "    </tr>\n",
       "  </thead>\n",
       "  <tbody>\n",
       "    <tr>\n",
       "      <th>0</th>\n",
       "      <td>63</td>\n",
       "      <td>male</td>\n",
       "      <td>asymptomatic</td>\n",
       "      <td>145</td>\n",
       "      <td>233</td>\n",
       "      <td>normal</td>\n",
       "      <td>150</td>\n",
       "      <td>at_risk</td>\n",
       "    </tr>\n",
       "    <tr>\n",
       "      <th>1</th>\n",
       "      <td>37</td>\n",
       "      <td>male</td>\n",
       "      <td>non-anginal pain</td>\n",
       "      <td>130</td>\n",
       "      <td>250</td>\n",
       "      <td>abnormal</td>\n",
       "      <td>187</td>\n",
       "      <td>at_risk</td>\n",
       "    </tr>\n",
       "    <tr>\n",
       "      <th>2</th>\n",
       "      <td>56</td>\n",
       "      <td>male</td>\n",
       "      <td>atypical angina</td>\n",
       "      <td>120</td>\n",
       "      <td>236</td>\n",
       "      <td>abnormal</td>\n",
       "      <td>178</td>\n",
       "      <td>at_risk</td>\n",
       "    </tr>\n",
       "    <tr>\n",
       "      <th>3</th>\n",
       "      <td>57</td>\n",
       "      <td>female</td>\n",
       "      <td>typical angina</td>\n",
       "      <td>120</td>\n",
       "      <td>354</td>\n",
       "      <td>abnormal</td>\n",
       "      <td>163</td>\n",
       "      <td>at_risk</td>\n",
       "    </tr>\n",
       "    <tr>\n",
       "      <th>4</th>\n",
       "      <td>57</td>\n",
       "      <td>male</td>\n",
       "      <td>typical angina</td>\n",
       "      <td>140</td>\n",
       "      <td>192</td>\n",
       "      <td>abnormal</td>\n",
       "      <td>148</td>\n",
       "      <td>at_risk</td>\n",
       "    </tr>\n",
       "  </tbody>\n",
       "</table>\n",
       "</div>"
      ],
      "text/plain": [
       "   age     sex                cp  trtbps  chol   restecg  thalach   output\n",
       "0   63    male      asymptomatic     145   233    normal      150  at_risk\n",
       "1   37    male  non-anginal pain     130   250  abnormal      187  at_risk\n",
       "2   56    male   atypical angina     120   236  abnormal      178  at_risk\n",
       "3   57  female    typical angina     120   354  abnormal      163  at_risk\n",
       "4   57    male    typical angina     140   192  abnormal      148  at_risk"
      ]
     },
     "execution_count": 10,
     "metadata": {},
     "output_type": "execute_result"
    }
   ],
   "source": [
    "# Display the updated dataset\n",
    "ha.head()"
   ]
  },
  {
   "cell_type": "markdown",
   "metadata": {
    "id": "2LKVMW4wHyWf"
   },
   "source": [
    "## Preliminary Data Exploration"
   ]
  },
  {
   "cell_type": "code",
   "execution_count": 11,
   "metadata": {
    "colab": {
     "base_uri": "https://localhost:8080/"
    },
    "id": "58nLuJpeKbkg",
    "outputId": "bc8e2add-d999-4e16-8a4f-7a52279139fd"
   },
   "outputs": [
    {
     "data": {
      "text/html": [
       "<div>\n",
       "<style scoped>\n",
       "    .dataframe tbody tr th:only-of-type {\n",
       "        vertical-align: middle;\n",
       "    }\n",
       "\n",
       "    .dataframe tbody tr th {\n",
       "        vertical-align: top;\n",
       "    }\n",
       "\n",
       "    .dataframe thead th {\n",
       "        text-align: right;\n",
       "    }\n",
       "</style>\n",
       "<table border=\"1\" class=\"dataframe\">\n",
       "  <thead>\n",
       "    <tr style=\"text-align: right;\">\n",
       "      <th></th>\n",
       "      <th>age</th>\n",
       "      <th>trtbps</th>\n",
       "      <th>chol</th>\n",
       "      <th>thalach</th>\n",
       "    </tr>\n",
       "  </thead>\n",
       "  <tbody>\n",
       "    <tr>\n",
       "      <th>count</th>\n",
       "      <td>273.000000</td>\n",
       "      <td>273.000000</td>\n",
       "      <td>273.000000</td>\n",
       "      <td>273.000000</td>\n",
       "    </tr>\n",
       "    <tr>\n",
       "      <th>mean</th>\n",
       "      <td>54.347985</td>\n",
       "      <td>132.098901</td>\n",
       "      <td>246.860806</td>\n",
       "      <td>149.446886</td>\n",
       "    </tr>\n",
       "    <tr>\n",
       "      <th>std</th>\n",
       "      <td>9.163134</td>\n",
       "      <td>17.700358</td>\n",
       "      <td>52.569726</td>\n",
       "      <td>23.240707</td>\n",
       "    </tr>\n",
       "    <tr>\n",
       "      <th>min</th>\n",
       "      <td>29.000000</td>\n",
       "      <td>94.000000</td>\n",
       "      <td>126.000000</td>\n",
       "      <td>71.000000</td>\n",
       "    </tr>\n",
       "    <tr>\n",
       "      <th>25%</th>\n",
       "      <td>47.000000</td>\n",
       "      <td>120.000000</td>\n",
       "      <td>211.000000</td>\n",
       "      <td>133.000000</td>\n",
       "    </tr>\n",
       "    <tr>\n",
       "      <th>50%</th>\n",
       "      <td>56.000000</td>\n",
       "      <td>130.000000</td>\n",
       "      <td>240.000000</td>\n",
       "      <td>152.000000</td>\n",
       "    </tr>\n",
       "    <tr>\n",
       "      <th>75%</th>\n",
       "      <td>61.000000</td>\n",
       "      <td>140.000000</td>\n",
       "      <td>275.000000</td>\n",
       "      <td>166.000000</td>\n",
       "    </tr>\n",
       "    <tr>\n",
       "      <th>max</th>\n",
       "      <td>77.000000</td>\n",
       "      <td>200.000000</td>\n",
       "      <td>564.000000</td>\n",
       "      <td>202.000000</td>\n",
       "    </tr>\n",
       "  </tbody>\n",
       "</table>\n",
       "</div>"
      ],
      "text/plain": [
       "              age      trtbps        chol     thalach\n",
       "count  273.000000  273.000000  273.000000  273.000000\n",
       "mean    54.347985  132.098901  246.860806  149.446886\n",
       "std      9.163134   17.700358   52.569726   23.240707\n",
       "min     29.000000   94.000000  126.000000   71.000000\n",
       "25%     47.000000  120.000000  211.000000  133.000000\n",
       "50%     56.000000  130.000000  240.000000  152.000000\n",
       "75%     61.000000  140.000000  275.000000  166.000000\n",
       "max     77.000000  200.000000  564.000000  202.000000"
      ]
     },
     "execution_count": 11,
     "metadata": {},
     "output_type": "execute_result"
    }
   ],
   "source": [
    "ha.describe()"
   ]
  },
  {
   "cell_type": "code",
   "execution_count": 12,
   "metadata": {
    "colab": {
     "base_uri": "https://localhost:8080/"
    },
    "id": "NcG_5ifzKqYb",
    "outputId": "e48b07d6-4682-4c46-d077-5fbfdae9b881"
   },
   "outputs": [
    {
     "name": "stdout",
     "output_type": "stream",
     "text": [
      "Value counts for sex:\n",
      "sex\n",
      "male      184\n",
      "female     89\n",
      "Name: count, dtype: int64\n",
      "\n",
      "Value counts for output:\n",
      "output\n",
      "at_risk        146\n",
      "not_at_risk    127\n",
      "Name: count, dtype: int64\n",
      "\n",
      "Value counts for cp:\n",
      "cp\n",
      "typical angina      128\n",
      "non-anginal pain     81\n",
      "atypical angina      44\n",
      "asymptomatic         20\n",
      "Name: count, dtype: int64\n",
      "\n",
      "Value counts for restecg:\n",
      "restecg\n",
      "abnormal    139\n",
      "normal      130\n",
      "prob/def      4\n",
      "Name: count, dtype: int64\n",
      "\n"
     ]
    }
   ],
   "source": [
    "# Assuming 'ha' is your DataFrame\n",
    "columns_of_interest = ['sex', 'output', 'cp', 'restecg']\n",
    "\n",
    "for column in columns_of_interest:\n",
    "    print(f\"Value counts for {column}:\\n{ha[column].value_counts()}\\n\")"
   ]
  },
  {
   "cell_type": "code",
   "execution_count": 13,
   "metadata": {
    "colab": {
     "base_uri": "https://localhost:8080/"
    },
    "id": "ZPODJUc-IGpg",
    "outputId": "d01604ff-d182-4350-d1da-f95b252f4dd6"
   },
   "outputs": [
    {
     "data": {
      "text/html": [
       "<div>\n",
       "<style scoped>\n",
       "    .dataframe tbody tr th:only-of-type {\n",
       "        vertical-align: middle;\n",
       "    }\n",
       "\n",
       "    .dataframe tbody tr th {\n",
       "        vertical-align: top;\n",
       "    }\n",
       "\n",
       "    .dataframe thead th {\n",
       "        text-align: right;\n",
       "    }\n",
       "</style>\n",
       "<table border=\"1\" class=\"dataframe\">\n",
       "  <thead>\n",
       "    <tr style=\"text-align: right;\">\n",
       "      <th>sex</th>\n",
       "      <th>female</th>\n",
       "      <th>male</th>\n",
       "    </tr>\n",
       "    <tr>\n",
       "      <th>output</th>\n",
       "      <th></th>\n",
       "      <th></th>\n",
       "    </tr>\n",
       "  </thead>\n",
       "  <tbody>\n",
       "    <tr>\n",
       "      <th>at_risk</th>\n",
       "      <td>0.458904</td>\n",
       "      <td>0.541096</td>\n",
       "    </tr>\n",
       "    <tr>\n",
       "      <th>not_at_risk</th>\n",
       "      <td>0.173228</td>\n",
       "      <td>0.826772</td>\n",
       "    </tr>\n",
       "  </tbody>\n",
       "</table>\n",
       "</div>"
      ],
      "text/plain": [
       "sex            female      male\n",
       "output                         \n",
       "at_risk      0.458904  0.541096\n",
       "not_at_risk  0.173228  0.826772"
      ]
     },
     "execution_count": 13,
     "metadata": {},
     "output_type": "execute_result"
    }
   ],
   "source": [
    "pd.crosstab(ha[\"output\"], ha[\"sex\"], normalize='index')"
   ]
  },
  {
   "cell_type": "markdown",
   "metadata": {
    "id": "mkmoihumfkLP"
   },
   "source": [
    "# Part One: Fitting Models"
   ]
  },
  {
   "cell_type": "code",
   "execution_count": 14,
   "metadata": {
    "id": "GYrvgeu0gySf"
   },
   "outputs": [],
   "source": [
    "#creating the target and the predictor variables\n",
    "X= ha.drop(['output'], axis=1)\n",
    "y= ha['output']"
   ]
  },
  {
   "cell_type": "code",
   "execution_count": 15,
   "metadata": {
    "id": "kPHL2HVvVYxb"
   },
   "outputs": [],
   "source": [
    "# Define the cross-validation strategy\n",
    "cv = StratifiedKFold(n_splits=10, shuffle=True, random_state=42)"
   ]
  },
  {
   "cell_type": "markdown",
   "metadata": {
    "id": "5wjAVC_hfpHX"
   },
   "source": [
    "## Q1: KNN"
   ]
  },
  {
   "cell_type": "markdown",
   "metadata": {
    "id": "5cYIKZWuZ5ct"
   },
   "source": [
    "### Tuning KNN"
   ]
  },
  {
   "cell_type": "code",
   "execution_count": 16,
   "metadata": {
    "id": "NPzfj9uXMsBd"
   },
   "outputs": [],
   "source": [
    "#Preprocessor as a column transformer that dumifies, standardizes.\n",
    "ct = ColumnTransformer(\n",
    "  [\n",
    "    (\"dummify\",\n",
    "    OneHotEncoder(sparse_output = False, handle_unknown='ignore'), # what does the handle_unkow = 'ignore' do? sparse, array, handle, ignores unknown cats to 0\n",
    "    make_column_selector(dtype_include=object)), #note the make_column_selector(dtype_include=object) will return all columns that are string objects.\n",
    "    (\"standardize\",\n",
    "    StandardScaler(),\n",
    "    make_column_selector(dtype_include=np.number)) #this one returns all columns that have numbers\n",
    "  ],\n",
    "  remainder = \"passthrough\" # we are doing this because we are keeping all the other variables\n",
    ")\n",
    "\n",
    "#Model Specification\n",
    "knn = KNeighborsClassifier()\n",
    "\n",
    "#pipeline Creation\n",
    "model_1_pipeline = Pipeline(\n",
    "    [(\"preprocessing\", ct),\n",
    "    (\"knn_classification\", knn)]\n",
    "  )"
   ]
  },
  {
   "cell_type": "code",
   "execution_count": 17,
   "metadata": {
    "id": "0eeoOLnRMsEe"
   },
   "outputs": [],
   "source": [
    "#tuning using grid Search\n",
    "params = {'knn_classification__n_neighbors': [1, 3, 5, 10, 50, 100]}\n",
    "\n",
    "gscv = GridSearchCV(model_1_pipeline, params, cv = cv, scoring='roc_auc')\n",
    "\n",
    "gscv_fitted = gscv.fit(X, y)"
   ]
  },
  {
   "cell_type": "code",
   "execution_count": 18,
   "metadata": {
    "colab": {
     "base_uri": "https://localhost:8080/",
     "height": 206
    },
    "id": "mb25js35MsHi",
    "outputId": "a9f0c1d6-e212-4496-86bd-45f00d0004e4"
   },
   "outputs": [
    {
     "data": {
      "text/html": [
       "<div>\n",
       "<style scoped>\n",
       "    .dataframe tbody tr th:only-of-type {\n",
       "        vertical-align: middle;\n",
       "    }\n",
       "\n",
       "    .dataframe tbody tr th {\n",
       "        vertical-align: top;\n",
       "    }\n",
       "\n",
       "    .dataframe thead th {\n",
       "        text-align: right;\n",
       "    }\n",
       "</style>\n",
       "<table border=\"1\" class=\"dataframe\">\n",
       "  <thead>\n",
       "    <tr style=\"text-align: right;\">\n",
       "      <th></th>\n",
       "      <th>K</th>\n",
       "      <th>roc_auc</th>\n",
       "    </tr>\n",
       "  </thead>\n",
       "  <tbody>\n",
       "    <tr>\n",
       "      <th>4</th>\n",
       "      <td>50</td>\n",
       "      <td>0.828834</td>\n",
       "    </tr>\n",
       "    <tr>\n",
       "      <th>5</th>\n",
       "      <td>100</td>\n",
       "      <td>0.819594</td>\n",
       "    </tr>\n",
       "    <tr>\n",
       "      <th>3</th>\n",
       "      <td>10</td>\n",
       "      <td>0.816358</td>\n",
       "    </tr>\n",
       "    <tr>\n",
       "      <th>2</th>\n",
       "      <td>5</td>\n",
       "      <td>0.792350</td>\n",
       "    </tr>\n",
       "    <tr>\n",
       "      <th>1</th>\n",
       "      <td>3</td>\n",
       "      <td>0.784963</td>\n",
       "    </tr>\n",
       "  </tbody>\n",
       "</table>\n",
       "</div>"
      ],
      "text/plain": [
       "     K   roc_auc\n",
       "4   50  0.828834\n",
       "5  100  0.819594\n",
       "3   10  0.816358\n",
       "2    5  0.792350\n",
       "1    3  0.784963"
      ]
     },
     "execution_count": 18,
     "metadata": {},
     "output_type": "execute_result"
    }
   ],
   "source": [
    "#getting the scores from the results\n",
    "mean_test_scores = gscv_fitted.cv_results_['mean_test_score']\n",
    "\n",
    "#getting the K's from the results corresponding to the\n",
    "ks = gscv_fitted.cv_results_['param_knn_classification__n_neighbors']\n",
    "\n",
    "# Creating a DataFrame with best parameterss and scores\n",
    "model_scores = pd.DataFrame(data = {\"K\": ks, \"roc_auc\": mean_test_scores}).sort_values(by='roc_auc', ascending=False)\n",
    "model_scores.head()"
   ]
  },
  {
   "cell_type": "markdown",
   "metadata": {
    "id": "qollPL4AZ95u"
   },
   "source": [
    "### Fitting Best KNN Model"
   ]
  },
  {
   "cell_type": "markdown",
   "metadata": {
    "id": "-n8uv0UunZ0S"
   },
   "source": [
    "- Utilizing GridSearchCV to tune the hyperparameter K for KNeighborsClassifier\n",
    "  We find that the best value for K is 50 with accuracy roc_auc score of 0.83%.\n",
    "- We move onto fitting this model on the DataSet to get the other metrics"
   ]
  },
  {
   "cell_type": "code",
   "execution_count": 19,
   "metadata": {
    "colab": {
     "base_uri": "https://localhost:8080/"
    },
    "id": "V34iGcuPovw5",
    "outputId": "3101e97b-8d00-46c9-b209-9161a2de80ba"
   },
   "outputs": [
    {
     "name": "stdout",
     "output_type": "stream",
     "text": [
      "Metrics for Model_1 :\n",
      "\n",
      "Mean AUC Score: 0.828833943833944 \n",
      "\n",
      "Confusion Matrix for Model_1 : \n",
      "\n"
     ]
    },
    {
     "data": {
      "text/html": [
       "<div>\n",
       "<style scoped>\n",
       "    .dataframe tbody tr th:only-of-type {\n",
       "        vertical-align: middle;\n",
       "    }\n",
       "\n",
       "    .dataframe tbody tr th {\n",
       "        vertical-align: top;\n",
       "    }\n",
       "\n",
       "    .dataframe thead th {\n",
       "        text-align: right;\n",
       "    }\n",
       "</style>\n",
       "<table border=\"1\" class=\"dataframe\">\n",
       "  <thead>\n",
       "    <tr style=\"text-align: right;\">\n",
       "      <th></th>\n",
       "      <th>at_risk</th>\n",
       "      <th>not_at_risk</th>\n",
       "    </tr>\n",
       "  </thead>\n",
       "  <tbody>\n",
       "    <tr>\n",
       "      <th>at_risk</th>\n",
       "      <td>105</td>\n",
       "      <td>41</td>\n",
       "    </tr>\n",
       "    <tr>\n",
       "      <th>not_at_risk</th>\n",
       "      <td>30</td>\n",
       "      <td>97</td>\n",
       "    </tr>\n",
       "  </tbody>\n",
       "</table>\n",
       "</div>"
      ],
      "text/plain": [
       "             at_risk  not_at_risk\n",
       "at_risk          105           41\n",
       "not_at_risk       30           97"
      ]
     },
     "execution_count": 19,
     "metadata": {},
     "output_type": "execute_result"
    }
   ],
   "source": [
    "# Model Specification\n",
    "knn = KNeighborsClassifier(n_neighbors=50)\n",
    "\n",
    "# pipeline Creation\n",
    "model_1_pipeline = Pipeline(\n",
    "    [(\"preprocessing\", ct),\n",
    "    (\"knn_classification\", knn)]\n",
    "  )\n",
    "\n",
    "#cross validated predictions\n",
    "model_1_pred = cross_val_predict(model_1_pipeline, X, y, cv=cv)\n",
    "\n",
    "# Metrics for Model 1\n",
    "print(\"Metrics for Model_1 :\\n\")\n",
    "\n",
    "# ROC AUC calculation\n",
    "cv_scores = cross_val_score(model_1_pipeline, X, y, cv=cv, scoring='roc_auc_ovo') # Perform cross-validation\n",
    "roc_auc_model_1 = np.mean(cv_scores)\n",
    "print(\"Mean AUC Score:\", roc_auc_model_1, \"\\n\") # AUC Score\n",
    "\n",
    "# Confusion matrix\n",
    "uni_classes = y.unique() #getting the unique classes in the Y variale\n",
    "conf_matrix_test = confusion_matrix(y, model_1_pred) # making the matrix\n",
    "class_names = uni_classes.tolist() # Putting the classes to a list\n",
    "conf_matrix_df = pd.DataFrame(conf_matrix_test, index=class_names, columns=class_names) # Display the confusion matrix with class labels\n",
    "print(\"Confusion Matrix for Model_1 : \\n\")\n",
    "conf_matrix_df"
   ]
  },
  {
   "cell_type": "markdown",
   "metadata": {
    "id": "zXZZQT-hgCAr"
   },
   "source": [
    "## Q2: Logistic Regression"
   ]
  },
  {
   "cell_type": "markdown",
   "metadata": {
    "id": "MtmviK3WSww7"
   },
   "source": [
    "### Tuning Logistic Regression"
   ]
  },
  {
   "cell_type": "code",
   "execution_count": 20,
   "metadata": {
    "id": "L90qyYBDtiXZ"
   },
   "outputs": [],
   "source": [
    "#Model Specification\n",
    "logreg = LogisticRegression(penalty='elasticnet',solver='saga')\n",
    "\n",
    "#pipeline Creation\n",
    "model_2_pipeline = Pipeline(\n",
    "    [(\"preprocessing\", ct),\n",
    "    (\"logisticreg_classification\", logreg)]\n",
    "  )"
   ]
  },
  {
   "cell_type": "code",
   "execution_count": 21,
   "metadata": {
    "id": "0TXxALKMtibb"
   },
   "outputs": [],
   "source": [
    "#tuning using grid Search\n",
    "params = {'logisticreg_classification__C': [.0001, .001, .01, .1, 1, 10],\n",
    "          'logisticreg_classification__l1_ratio':[.1, .2, .4, .6, .8, .9]}\n",
    "\n",
    "gscv = GridSearchCV(model_2_pipeline, params, cv = cv, scoring='roc_auc')\n",
    "\n",
    "gscv_fitted = gscv.fit(X, y)"
   ]
  },
  {
   "cell_type": "code",
   "execution_count": 22,
   "metadata": {
    "colab": {
     "base_uri": "https://localhost:8080/"
    },
    "id": "L86j90xPtifA",
    "outputId": "b0d50e70-6bd5-48e8-82f0-223ae1234faf"
   },
   "outputs": [
    {
     "data": {
      "text/html": [
       "<div>\n",
       "<style scoped>\n",
       "    .dataframe tbody tr th:only-of-type {\n",
       "        vertical-align: middle;\n",
       "    }\n",
       "\n",
       "    .dataframe tbody tr th {\n",
       "        vertical-align: top;\n",
       "    }\n",
       "\n",
       "    .dataframe thead th {\n",
       "        text-align: right;\n",
       "    }\n",
       "</style>\n",
       "<table border=\"1\" class=\"dataframe\">\n",
       "  <thead>\n",
       "    <tr style=\"text-align: right;\">\n",
       "      <th></th>\n",
       "      <th>lambdas</th>\n",
       "      <th>alphas</th>\n",
       "      <th>roc_auc</th>\n",
       "    </tr>\n",
       "  </thead>\n",
       "  <tbody>\n",
       "    <tr>\n",
       "      <th>29</th>\n",
       "      <td>1.0</td>\n",
       "      <td>0.9</td>\n",
       "      <td>0.859689</td>\n",
       "    </tr>\n",
       "    <tr>\n",
       "      <th>28</th>\n",
       "      <td>1.0</td>\n",
       "      <td>0.8</td>\n",
       "      <td>0.859176</td>\n",
       "    </tr>\n",
       "    <tr>\n",
       "      <th>27</th>\n",
       "      <td>1.0</td>\n",
       "      <td>0.6</td>\n",
       "      <td>0.858071</td>\n",
       "    </tr>\n",
       "    <tr>\n",
       "      <th>26</th>\n",
       "      <td>1.0</td>\n",
       "      <td>0.4</td>\n",
       "      <td>0.855897</td>\n",
       "    </tr>\n",
       "    <tr>\n",
       "      <th>35</th>\n",
       "      <td>10.0</td>\n",
       "      <td>0.9</td>\n",
       "      <td>0.855855</td>\n",
       "    </tr>\n",
       "  </tbody>\n",
       "</table>\n",
       "</div>"
      ],
      "text/plain": [
       "    lambdas  alphas   roc_auc\n",
       "29      1.0     0.9  0.859689\n",
       "28      1.0     0.8  0.859176\n",
       "27      1.0     0.6  0.858071\n",
       "26      1.0     0.4  0.855897\n",
       "35     10.0     0.9  0.855855"
      ]
     },
     "execution_count": 22,
     "metadata": {},
     "output_type": "execute_result"
    }
   ],
   "source": [
    "#getting the scores from the results\n",
    "mean_test_scores = gscv_fitted.cv_results_['mean_test_score']\n",
    "\n",
    "#getting the parameters corresponding to the models from the results\n",
    "lambdas = gscv_fitted.cv_results_['param_logisticreg_classification__C']\n",
    "alphas = gscv_fitted.cv_results_['param_logisticreg_classification__l1_ratio']\n",
    "\n",
    "# Creating a DataFrame with best parameterss and scores\n",
    "model_scores = pd.DataFrame(data = {\"lambdas\": lambdas,\"alphas\": alphas, \"roc_auc\": mean_test_scores}).sort_values(by='roc_auc', ascending=False)\n",
    "model_scores.head()"
   ]
  },
  {
   "cell_type": "markdown",
   "metadata": {
    "id": "rKjdqsv6S1y_"
   },
   "source": [
    "### Fitting Tuned Logistic Regression Model"
   ]
  },
  {
   "cell_type": "markdown",
   "metadata": {
    "id": "z0gbnRFA0Jp6"
   },
   "source": [
    "- After Tuning a Logistic Regression Models Hyperparameters, specifically by penalizing using Elastic net and tuning the lambda and alpha values to maximize the ROC_AUC Score, the best lambda and alpha values were 1 and .9 respectively with a ROC_AUC score of .86.\n",
    "- We go forward with that model to get other metrics."
   ]
  },
  {
   "cell_type": "code",
   "execution_count": 23,
   "metadata": {
    "colab": {
     "base_uri": "https://localhost:8080/",
     "height": 216
    },
    "id": "rINFCXTntijo",
    "outputId": "77d9cc5f-9737-4ae5-b906-50c21da6e8ef"
   },
   "outputs": [
    {
     "name": "stdout",
     "output_type": "stream",
     "text": [
      "Metrics for Model_2 :\n",
      "\n",
      "Mean AUC Score: 0.8596886446886447 \n",
      "\n",
      "Confusion Matrix for Model_2 : \n",
      "\n"
     ]
    },
    {
     "data": {
      "text/html": [
       "<div>\n",
       "<style scoped>\n",
       "    .dataframe tbody tr th:only-of-type {\n",
       "        vertical-align: middle;\n",
       "    }\n",
       "\n",
       "    .dataframe tbody tr th {\n",
       "        vertical-align: top;\n",
       "    }\n",
       "\n",
       "    .dataframe thead th {\n",
       "        text-align: right;\n",
       "    }\n",
       "</style>\n",
       "<table border=\"1\" class=\"dataframe\">\n",
       "  <thead>\n",
       "    <tr style=\"text-align: right;\">\n",
       "      <th></th>\n",
       "      <th>at_risk</th>\n",
       "      <th>not_at_risk</th>\n",
       "    </tr>\n",
       "  </thead>\n",
       "  <tbody>\n",
       "    <tr>\n",
       "      <th>at_risk</th>\n",
       "      <td>119</td>\n",
       "      <td>27</td>\n",
       "    </tr>\n",
       "    <tr>\n",
       "      <th>not_at_risk</th>\n",
       "      <td>34</td>\n",
       "      <td>93</td>\n",
       "    </tr>\n",
       "  </tbody>\n",
       "</table>\n",
       "</div>"
      ],
      "text/plain": [
       "             at_risk  not_at_risk\n",
       "at_risk          119           27\n",
       "not_at_risk       34           93"
      ]
     },
     "execution_count": 23,
     "metadata": {},
     "output_type": "execute_result"
    }
   ],
   "source": [
    "#Model Specification\n",
    "logreg = LogisticRegression(penalty='elasticnet',solver='saga', C=1, l1_ratio=.9)\n",
    "\n",
    "#pipeline Creation\n",
    "model_2_pipeline = Pipeline(\n",
    "    [(\"preprocessing\", ct),\n",
    "    (\"logisticreg_classification\", logreg)]\n",
    "  )\n",
    "\n",
    "#predictions for the test data\n",
    "model_2_test_pred = cross_val_predict(model_2_pipeline, X, y, cv=cv)\n",
    "\n",
    "# Metrics for Model 2\n",
    "print(\"Metrics for Model_2 :\\n\")\n",
    "\n",
    "# ROC AUC calculation\n",
    "cv_scores = cross_val_score(model_2_pipeline, X, y, cv=cv, scoring='roc_auc_ovo') # Perform cross-validation\n",
    "roc_auc_model_2 = np.mean(cv_scores)\n",
    "print(\"Mean AUC Score:\", roc_auc_model_2, \"\\n\") # AUC Score\n",
    "\n",
    "# Confusion matrix\n",
    "uni_classes = y.unique() #getting the unique classes in the Y variale\n",
    "conf_matrix_test = confusion_matrix(y, model_2_test_pred) # making the matrix\n",
    "class_names = uni_classes.tolist() # Putting the classes to a list\n",
    "conf_matrix_df = pd.DataFrame(conf_matrix_test, index=class_names, columns=class_names) # Display the confusion matrix with class labels\n",
    "print(\"Confusion Matrix for Model_2 : \\n\")\n",
    "conf_matrix_df"
   ]
  },
  {
   "cell_type": "markdown",
   "metadata": {
    "id": "WBippwE6o7hB"
   },
   "source": [
    "### Linear Model Coefficient Interpretation"
   ]
  },
  {
   "cell_type": "code",
   "execution_count": 24,
   "metadata": {
    "id": "qeRDbrcrYETt"
   },
   "outputs": [],
   "source": [
    "# Perform cross-validated predictions\n",
    "y_pred_cv = cross_val_predict(model_2_pipeline, X, y, cv=cv)\n",
    "\n",
    "# Get the indices of correctly classified instances\n",
    "correct_indices = (y == y_pred_cv)\n",
    "\n",
    "# Use the correct indices to fit the model on the entire dataset\n",
    "model_2_pipeline.fit(X[correct_indices], y[correct_indices])\n",
    "\n",
    "# Extract coefficients\n",
    "model_2_coef = model_2_pipeline.named_steps['logisticreg_classification'].coef_ # Extracting the Coefficients\n",
    "flattened_coef = model_2_coef.flatten() # Flatten the 2D coefficient array\n",
    "\n",
    "# Extract features\n",
    "model_2_features = ct.get_feature_names_out()\n",
    "\n",
    "# Create a dataframe\n",
    "features_coeff = pd.DataFrame({'Feature': model_2_features, 'Coefficient': flattened_coef})\n",
    "\n",
    "# Display the dataframe\n",
    "#features_coeff"
   ]
  },
  {
   "cell_type": "markdown",
   "metadata": {
    "id": "BaAIkeUb3QQA"
   },
   "source": [
    "### log odds ratio to odds ratio, Function\n"
   ]
  },
  {
   "cell_type": "code",
   "execution_count": 25,
   "metadata": {
    "id": "8ER1p2NV3O92"
   },
   "outputs": [],
   "source": [
    "# getting the odds ratio function\n",
    "def destandardized_odds_ratio(feature, coefficient, original_data):\n",
    "    if 'standardize__' in feature:\n",
    "        original_feature = feature.replace('standardize__', '')\n",
    "        std_value = original_data[original_feature].std()\n",
    "        odds_ratio = np.exp(coefficient * std_value)\n",
    "        return odds_ratio\n",
    "    else:\n",
    "        return np.exp(coefficient)"
   ]
  },
  {
   "cell_type": "markdown",
   "metadata": {
    "id": "lEyrIEb33ZMs"
   },
   "source": [
    "### Continue Linear Model Coefficient Interpretation"
   ]
  },
  {
   "cell_type": "code",
   "execution_count": 26,
   "metadata": {
    "colab": {
     "base_uri": "https://localhost:8080/",
     "height": 206
    },
    "id": "MvIKqqDU2gS_",
    "outputId": "525b939f-cbeb-4bd5-c39e-c16a6c0bf3ce"
   },
   "outputs": [
    {
     "data": {
      "text/html": [
       "<div>\n",
       "<style scoped>\n",
       "    .dataframe tbody tr th:only-of-type {\n",
       "        vertical-align: middle;\n",
       "    }\n",
       "\n",
       "    .dataframe tbody tr th {\n",
       "        vertical-align: top;\n",
       "    }\n",
       "\n",
       "    .dataframe thead th {\n",
       "        text-align: right;\n",
       "    }\n",
       "</style>\n",
       "<table border=\"1\" class=\"dataframe\">\n",
       "  <thead>\n",
       "    <tr style=\"text-align: right;\">\n",
       "      <th></th>\n",
       "      <th>Feature</th>\n",
       "      <th>Coefficient</th>\n",
       "      <th>Odds_Ratio</th>\n",
       "    </tr>\n",
       "  </thead>\n",
       "  <tbody>\n",
       "    <tr>\n",
       "      <th>11</th>\n",
       "      <td>standardize__chol</td>\n",
       "      <td>0.833749</td>\n",
       "      <td>1.084209e+19</td>\n",
       "    </tr>\n",
       "    <tr>\n",
       "      <th>10</th>\n",
       "      <td>standardize__trtbps</td>\n",
       "      <td>0.881222</td>\n",
       "      <td>5.944259e+06</td>\n",
       "    </tr>\n",
       "    <tr>\n",
       "      <th>9</th>\n",
       "      <td>standardize__age</td>\n",
       "      <td>0.559861</td>\n",
       "      <td>1.690314e+02</td>\n",
       "    </tr>\n",
       "    <tr>\n",
       "      <th>5</th>\n",
       "      <td>dummify__cp_typical angina</td>\n",
       "      <td>4.676238</td>\n",
       "      <td>1.073654e+02</td>\n",
       "    </tr>\n",
       "    <tr>\n",
       "      <th>1</th>\n",
       "      <td>dummify__sex_male</td>\n",
       "      <td>1.695416</td>\n",
       "      <td>5.448910e+00</td>\n",
       "    </tr>\n",
       "  </tbody>\n",
       "</table>\n",
       "</div>"
      ],
      "text/plain": [
       "                       Feature  Coefficient    Odds_Ratio\n",
       "11           standardize__chol     0.833749  1.084209e+19\n",
       "10         standardize__trtbps     0.881222  5.944259e+06\n",
       "9             standardize__age     0.559861  1.690314e+02\n",
       "5   dummify__cp_typical angina     4.676238  1.073654e+02\n",
       "1            dummify__sex_male     1.695416  5.448910e+00"
      ]
     },
     "execution_count": 26,
     "metadata": {},
     "output_type": "execute_result"
    }
   ],
   "source": [
    "# Apply the transformation function to create a new column 'Original_Coefficient'\n",
    "features_coeff['Odds_Ratio'] = features_coeff.apply(lambda row: destandardized_odds_ratio(row['Feature'], row['Coefficient'], ha), axis=1)\n",
    "\n",
    "# Add a new column 'Absolute_Coefficient' to features_coeff\n",
    "#features_coeff['Absolute_Coefficient'] = features_coeff['Odds_Ratio'].abs()\n",
    "\n",
    "# Display the modified DataFrame\n",
    "features_coeff.sort_values(by='Odds_Ratio', ascending=False).head() #printing it out"
   ]
  },
  {
   "cell_type": "markdown",
   "metadata": {
    "id": "1knr0QqQYC4Y"
   },
   "source": [
    "- the chances of somoeone being at risk according to our logistic regression model are increased the highest in terms of odds ratio by by chol (cholesterol in mg/dl fetched via BMI sensor), trtbps(resting blood pressure (in mm Hg)), age, cp (chest pain type: typical angina), and sex (Male)."
   ]
  },
  {
   "cell_type": "markdown",
   "metadata": {
    "id": "joaOVfYOgCHO"
   },
   "source": [
    "## Q3: Decision Tree"
   ]
  },
  {
   "cell_type": "markdown",
   "metadata": {
    "id": "50OnVZ67S86M"
   },
   "source": [
    "### Tuning Decision Tree"
   ]
  },
  {
   "cell_type": "code",
   "execution_count": 27,
   "metadata": {
    "id": "AwtZl9nD22Wr"
   },
   "outputs": [],
   "source": [
    "#Preproccessor\n",
    "ct_no_standardize = ColumnTransformer(\n",
    "    [(\"dummify\",\n",
    "         OneHotEncoder(sparse_output=False, handle_unknown='ignore'),\n",
    "         make_column_selector(dtype_include=object)),\n",
    "    ],\n",
    "    remainder=\"passthrough\"\n",
    "    )\n",
    "\n",
    "#Model Specification\n",
    "des = DecisionTreeClassifier()\n",
    "\n",
    "#pipeline Creation\n",
    "model_3_pipeline = Pipeline(\n",
    "    [(\"preprocessing\", ct_no_standardize),\n",
    "    (\"des_classification\", des)]\n",
    "  )"
   ]
  },
  {
   "cell_type": "code",
   "execution_count": 28,
   "metadata": {
    "id": "mqQv4lbG22bF"
   },
   "outputs": [],
   "source": [
    "#tuning using grid Search\n",
    "params = {'des_classification__max_depth': [1, 3, 6, 9, 12, 15]}\n",
    "\n",
    "gscv = GridSearchCV(model_3_pipeline, params, cv = cv, scoring='roc_auc')\n",
    "\n",
    "gscv_fitted = gscv.fit(X, y)"
   ]
  },
  {
   "cell_type": "code",
   "execution_count": 29,
   "metadata": {
    "colab": {
     "base_uri": "https://localhost:8080/"
    },
    "id": "mTZHdMq-22dJ",
    "outputId": "1e1ecd35-065c-4c65-cdf8-9a0b44cb57cf"
   },
   "outputs": [
    {
     "data": {
      "text/html": [
       "<div>\n",
       "<style scoped>\n",
       "    .dataframe tbody tr th:only-of-type {\n",
       "        vertical-align: middle;\n",
       "    }\n",
       "\n",
       "    .dataframe tbody tr th {\n",
       "        vertical-align: top;\n",
       "    }\n",
       "\n",
       "    .dataframe thead th {\n",
       "        text-align: right;\n",
       "    }\n",
       "</style>\n",
       "<table border=\"1\" class=\"dataframe\">\n",
       "  <thead>\n",
       "    <tr style=\"text-align: right;\">\n",
       "      <th></th>\n",
       "      <th>max_depth</th>\n",
       "      <th>roc_auc</th>\n",
       "    </tr>\n",
       "  </thead>\n",
       "  <tbody>\n",
       "    <tr>\n",
       "      <th>1</th>\n",
       "      <td>3</td>\n",
       "      <td>0.820870</td>\n",
       "    </tr>\n",
       "    <tr>\n",
       "      <th>0</th>\n",
       "      <td>1</td>\n",
       "      <td>0.754158</td>\n",
       "    </tr>\n",
       "    <tr>\n",
       "      <th>2</th>\n",
       "      <td>6</td>\n",
       "      <td>0.699527</td>\n",
       "    </tr>\n",
       "    <tr>\n",
       "      <th>5</th>\n",
       "      <td>15</td>\n",
       "      <td>0.685769</td>\n",
       "    </tr>\n",
       "    <tr>\n",
       "      <th>4</th>\n",
       "      <td>12</td>\n",
       "      <td>0.673901</td>\n",
       "    </tr>\n",
       "  </tbody>\n",
       "</table>\n",
       "</div>"
      ],
      "text/plain": [
       "   max_depth   roc_auc\n",
       "1          3  0.820870\n",
       "0          1  0.754158\n",
       "2          6  0.699527\n",
       "5         15  0.685769\n",
       "4         12  0.673901"
      ]
     },
     "execution_count": 29,
     "metadata": {},
     "output_type": "execute_result"
    }
   ],
   "source": [
    "#getting the scores from the results\n",
    "mean_test_scores = gscv_fitted.cv_results_['mean_test_score']\n",
    "\n",
    "#getting the K's from the results corresponding to the\n",
    "max_depth = gscv_fitted.cv_results_['param_des_classification__max_depth']\n",
    "\n",
    "# Creating a DataFrame with best parameterss and scores\n",
    "model_scores = pd.DataFrame(data = {\"max_depth\": max_depth, \"roc_auc\": mean_test_scores}).sort_values(by='roc_auc', ascending=False)\n",
    "model_scores.head()"
   ]
  },
  {
   "cell_type": "markdown",
   "metadata": {
    "id": "PSBJRyZrnydj"
   },
   "source": [
    "### Fitting Tuned Decsion Tree Model"
   ]
  },
  {
   "cell_type": "markdown",
   "metadata": {
    "id": "BrdfDoDZnkav"
   },
   "source": [
    "- After tuning the depth for the decision tree we found that the best max_depth to use was 3, yielding a roc_auc score of 82%.\n",
    "- We go forward to fit this type of model on the data set to get our other metrics."
   ]
  },
  {
   "cell_type": "code",
   "execution_count": 30,
   "metadata": {
    "colab": {
     "base_uri": "https://localhost:8080/",
     "height": 216
    },
    "id": "enzCN6Zy22g-",
    "outputId": "f6d73d34-5e5d-4b39-8065-0604bbbe1530"
   },
   "outputs": [
    {
     "name": "stdout",
     "output_type": "stream",
     "text": [
      "Metrics for Model_3 :\n",
      "\n",
      "Mean AUC Score: 0.8208699633699634 \n",
      "\n",
      "Confusion Matrix for Model_3 : \n",
      "\n"
     ]
    },
    {
     "data": {
      "text/html": [
       "<div>\n",
       "<style scoped>\n",
       "    .dataframe tbody tr th:only-of-type {\n",
       "        vertical-align: middle;\n",
       "    }\n",
       "\n",
       "    .dataframe tbody tr th {\n",
       "        vertical-align: top;\n",
       "    }\n",
       "\n",
       "    .dataframe thead th {\n",
       "        text-align: right;\n",
       "    }\n",
       "</style>\n",
       "<table border=\"1\" class=\"dataframe\">\n",
       "  <thead>\n",
       "    <tr style=\"text-align: right;\">\n",
       "      <th></th>\n",
       "      <th>at_risk</th>\n",
       "      <th>not_at_risk</th>\n",
       "    </tr>\n",
       "  </thead>\n",
       "  <tbody>\n",
       "    <tr>\n",
       "      <th>at_risk</th>\n",
       "      <td>119</td>\n",
       "      <td>27</td>\n",
       "    </tr>\n",
       "    <tr>\n",
       "      <th>not_at_risk</th>\n",
       "      <td>34</td>\n",
       "      <td>93</td>\n",
       "    </tr>\n",
       "  </tbody>\n",
       "</table>\n",
       "</div>"
      ],
      "text/plain": [
       "             at_risk  not_at_risk\n",
       "at_risk          119           27\n",
       "not_at_risk       34           93"
      ]
     },
     "execution_count": 30,
     "metadata": {},
     "output_type": "execute_result"
    }
   ],
   "source": [
    "#Model Specification\n",
    "des = DecisionTreeClassifier(max_depth=3)\n",
    "\n",
    "#pipeline Creation\n",
    "model_3_pipeline = Pipeline(\n",
    "    [(\"preprocessing\", ct_no_standardize),\n",
    "    (\"des_classification\", des)]\n",
    "  )\n",
    "\n",
    "#predictions for the test data\n",
    "model_3_test_pred = cross_val_predict(model_3_pipeline, X, y, cv=cv)\n",
    "\n",
    "# Metrics for Model 3\n",
    "print(\"Metrics for Model_3 :\\n\")\n",
    "\n",
    "# ROC AUC calculation\n",
    "cv_scores = cross_val_score(model_3_pipeline, X, y, cv=cv, scoring='roc_auc_ovo') # Perform cross-validation\n",
    "roc_auc_model_3 = np.mean(cv_scores)\n",
    "print(\"Mean AUC Score:\", roc_auc_model_3, \"\\n\") # AUC Score\n",
    "\n",
    "# Confusion matrix\n",
    "uni_classes = y.unique() #getting the unique classes in the Y variale\n",
    "conf_matrix_test = confusion_matrix(y, model_3_test_pred) # making the matrix\n",
    "class_names = uni_classes.tolist() # Putting the classes to a listconf_matrix_df = pd.DataFrame(conf_matrix_test, index=class_names, columns=class_names) # Display the confusion matrix with class labels\n",
    "print(\"Confusion Matrix for Model_3 : \\n\")\n",
    "conf_matrix_df"
   ]
  },
  {
   "cell_type": "markdown",
   "metadata": {
    "id": "lXaR0EVSXv-W"
   },
   "source": [
    "### Visualizing Tree"
   ]
  },
  {
   "cell_type": "code",
   "execution_count": 31,
   "metadata": {},
   "outputs": [
    {
     "name": "stdout",
     "output_type": "stream",
     "text": [
      "Looking in indexes: https://pypi.org/simple, https://pypi.ngc.nvidia.com\n",
      "Requirement already satisfied: graphviz in d:\\juniotech sf_2024\\venv\\lib\\site-packages (0.20.3)\n",
      "Note: you may need to restart the kernel to use updated packages.\n"
     ]
    },
    {
     "name": "stderr",
     "output_type": "stream",
     "text": [
      "\n",
      "[notice] A new release of pip is available: 23.0.1 -> 24.2\n",
      "[notice] To update, run: python.exe -m pip install --upgrade pip\n"
     ]
    }
   ],
   "source": [
    "pip install graphviz\n"
   ]
  },
  {
   "cell_type": "code",
   "execution_count": 33,
   "metadata": {
    "colab": {
     "base_uri": "https://localhost:8080/",
     "height": 594
    },
    "id": "YnRamooX22kT",
    "outputId": "a732348d-8128-4567-9437-78da208bb930"
   },
   "outputs": [],
   "source": [
    "from sklearn.tree import export_graphviz\n",
    "from IPython.display import display, Image\n",
    "import graphviz\n",
    "\n",
    "# Perform cross-validated predictions\n",
    "y_pred_cv = cross_val_predict(model_3_pipeline, X, y, cv=cv)\n",
    "\n",
    "# Get the indices of correctly classified instances\n",
    "correct_indices = (y == y_pred_cv)\n",
    "\n",
    "# Use the correct indices to fit the model on the entire dataset\n",
    "model_3_pipeline.fit(X[correct_indices], y[correct_indices])\n",
    "\n",
    "# Get the transformed feature names from the preprocessor\n",
    "transformed_feature_names = list(ct_no_standardize.get_feature_names_out(X.columns))\n",
    "\n",
    "# Export the decision tree to a DOT file\n",
    "dot_data = export_graphviz(model_3_pipeline.named_steps['des_classification'],\n",
    "                           feature_names=transformed_feature_names,\n",
    "                           class_names=model_3_pipeline.named_steps['des_classification'].classes_,\n",
    "                           filled=True,\n",
    "                           rounded=True,\n",
    "                           special_characters=True,\n",
    "                           out_file=None)\n",
    "\n",
    "# Render the decision tree directly in Colab\n",
    "graph = graphviz.Source(dot_data, format=\"png\")\n",
    "#display(Image(graph.render(format='png', cleanup=True)))"
   ]
  },
  {
   "cell_type": "code",
   "execution_count": 34,
   "metadata": {
    "colab": {
     "base_uri": "https://localhost:8080/",
     "height": 514
    },
    "id": "jVSMtssgcw5H",
    "outputId": "4d79b473-446a-47d8-d6f7-553587c59b65"
   },
   "outputs": [
    {
     "data": {
      "image/png": "[encoded data removed]"
     },
     "metadata": {
      "image/png": {
       "height": 480,
       "width": 640
      }
     },
     "output_type": "display_data"
    }
   ],
   "source": [
    "# Get feature importances\n",
    "feature_importances = model_3_pipeline.named_steps[\"des_classification\"].feature_importances_\n",
    "\n",
    "# Get the corresponding feature names\n",
    "feature_names = list(ct_no_standardize.get_feature_names_out(X.columns))\n",
    "\n",
    "# Create a DataFrame to display feature importances\n",
    "feature_importance_df = pd.DataFrame({\n",
    "    'Feature': feature_names,\n",
    "    'Importance': feature_importances\n",
    "})\n",
    "\n",
    "# Sort the DataFrame by importance in descending order\n",
    "feature_importance_df = feature_importance_df.sort_values(by='Importance', ascending=False)\n",
    "\n",
    "# Display the sorted feature importances\n",
    "feature_importance_df.head()\n",
    "\n",
    "feature_plot = (\n",
    "    ggplot(feature_importance_df.head(), aes(x='Feature', y='Importance'))\n",
    "    + geom_bar(stat='identity', fill='steelblue')\n",
    "    + theme_minimal()\n",
    "    + coord_flip()  # Horizontal bar plot\n",
    "    + labs(title='Top 5 Feature Importances', x='Feature', y='Importance')\n",
    ")\n",
    "feature_plot\n",
    "#feature_importance_df.head()"
   ]
  },
  {
   "cell_type": "markdown",
   "metadata": {
    "id": "E3KULXbMoR32"
   },
   "source": [
    "- the greatest classification factor according to our decision tree model for classifying whether someone is at risk of heart disease or not is cp (chest pain type typical angina), sex (Female), the next ones are age <=56, thalach (maximum heart rate achieved during exercise <= 160), and trtbps (resting blood pressure (in mm Hg) of <=107)."
   ]
  },
  {
   "cell_type": "markdown",
   "metadata": {
    "id": "z3OzvDtFZRv_"
   },
   "source": [
    "## Q4: Coefficients Interpretation"
   ]
  },
  {
   "cell_type": "markdown",
   "metadata": {
    "id": "qiY5dybpZKfm"
   },
   "source": [
    "- the chances of somoeone being at risk according to our logistic regression model are increased the highest in terms of odds ratio by by chol (cholesterol in mg/dl fetched via BMI sensor), trtbps(resting blood pressure (in mm Hg)), age, cp (chest pain type: typical angina), and sex (Male).\n",
    "\n",
    "- the greatest classification factor according to our decision tree model for classifying whether someone is at risk of heart disease or not is cp (chest pain type typical angina), sex (Female), the next ones are age <=56, thalach (maximum heart rate achieved during exercise <= 160), and trtbps (resting blood pressure (in mm Hg) of <=107)."
   ]
  },
  {
   "cell_type": "markdown",
   "metadata": {
    "id": "Zh6OuaO9Ymcj"
   },
   "source": [
    "## Q5: ROC Curve"
   ]
  },
  {
   "cell_type": "code",
   "execution_count": 35,
   "metadata": {
    "id": "Ns_0eOoiMsXh"
   },
   "outputs": [],
   "source": [
    "# Models and their names\n",
    "models = [model_1_pipeline, model_2_pipeline, model_3_pipeline]\n",
    "model_names = ['Model 1', 'Model 2', 'Model 3']\n",
    "\n",
    "# Create an empty DataFrame to store ROC curve data\n",
    "roc_data_all = pd.DataFrame(columns=['False Positive Rate', 'True Positive Rate', 'Model', 'AUC Score'])\n",
    "\n",
    "# Loop through models\n",
    "for model, model_name in zip(models, model_names):\n",
    "    # Perform cross-validated predictions\n",
    "    y_scores = cross_val_predict(model, X, y, cv=cv, method='predict_proba')\n",
    "\n",
    "    # Binarize the labels if needed\n",
    "    y_binarized = label_binarize(y, classes=y.unique())\n",
    "\n",
    "    # Calculate ROC curve and AUC for each class\n",
    "    fpr, tpr, _ = roc_curve(y_binarized.ravel(), y_scores[:, 1].ravel())\n",
    "    roc_auc = auc(fpr, tpr)\n",
    "\n",
    "    # Create DataFrame for the current model\n",
    "    roc_data_model = pd.DataFrame({'False Positive Rate': fpr, 'True Positive Rate': tpr, 'Model': model_name, 'AUC Score': roc_auc})\n",
    "\n",
    "    # Append to the overall DataFrame\n",
    "    roc_data_all = pd.concat([roc_data_all, roc_data_model], ignore_index=True)\n"
   ]
  },
  {
   "cell_type": "code",
   "execution_count": 36,
   "metadata": {
    "colab": {
     "base_uri": "https://localhost:8080/",
     "height": 514
    },
    "id": "IkLGY3VNMsZm",
    "outputId": "8c824c64-238d-496e-aa93-62308010aa6d"
   },
   "outputs": [
    {
     "data": {
      "image/png": "[encoded data removed]"
     },
     "metadata": {
      "image/png": {
       "height": 480,
       "width": 640
      }
     },
     "output_type": "display_data"
    },
    {
     "name": "stdout",
     "output_type": "stream",
     "text": [
      "\n"
     ]
    }
   ],
   "source": [
    "\n",
    "# Create ROC plot using plotnine\n",
    "roc_plot_all = (\n",
    "    ggplot(roc_data_all, aes(x='False Positive Rate', y='True Positive Rate', color='Model'))\n",
    "    + geom_line(size = 1)\n",
    "    + geom_abline(linetype='dashed', size=.2)\n",
    "    + annotate(\"text\", x=0.75, y=0.2, label=f\"AUC Score {model_names[0]}: {roc_data_all[roc_data_all['Model'] == model_names[0]].iloc[0, 3]:.4f}\", color=\"red\")\n",
    "    + annotate(\"text\", x=0.75, y=0.15, label=f\"AUC Score {model_names[1]}: {roc_data_all[roc_data_all['Model'] == model_names[1]].iloc[0, 3]:.4f}\", color=\"green\")\n",
    "    + annotate(\"text\", x=0.75, y=0.1, label=f\"AUC Score {model_names[2]}: {roc_data_all[roc_data_all['Model'] == model_names[2]].iloc[0, 3]:.4f}\", color=\"blue\")\n",
    "    + labs(title='ROC Curve Comparison', x='False Positive Rate', y='True Positive Rate')\n",
    "    + theme_bw()\n",
    ")\n",
    "\n",
    "\n",
    "# Show the plot\n",
    "print(roc_plot_all)"
   ]
  },
  {
   "cell_type": "markdown",
   "metadata": {
    "id": "uI6rPkkVQ0MD"
   },
   "source": [
    "# Part Two: **Metrics**"
   ]
  },
  {
   "cell_type": "code",
   "execution_count": 37,
   "metadata": {
    "colab": {
     "base_uri": "https://localhost:8080/",
     "height": 143
    },
    "id": "OwVvpN_UhSQZ",
    "outputId": "4e6181bc-673a-4de3-832d-a24ad0c367bc"
   },
   "outputs": [
    {
     "data": {
      "text/html": [
       "<div>\n",
       "<style scoped>\n",
       "    .dataframe tbody tr th:only-of-type {\n",
       "        vertical-align: middle;\n",
       "    }\n",
       "\n",
       "    .dataframe tbody tr th {\n",
       "        vertical-align: top;\n",
       "    }\n",
       "\n",
       "    .dataframe thead th {\n",
       "        text-align: right;\n",
       "    }\n",
       "</style>\n",
       "<table border=\"1\" class=\"dataframe\">\n",
       "  <thead>\n",
       "    <tr style=\"text-align: right;\">\n",
       "      <th></th>\n",
       "      <th>Model</th>\n",
       "      <th>ROC AUC Score</th>\n",
       "    </tr>\n",
       "  </thead>\n",
       "  <tbody>\n",
       "    <tr>\n",
       "      <th>0</th>\n",
       "      <td>Model 1</td>\n",
       "      <td>0.828834</td>\n",
       "    </tr>\n",
       "    <tr>\n",
       "      <th>1</th>\n",
       "      <td>Model 2</td>\n",
       "      <td>0.859689</td>\n",
       "    </tr>\n",
       "    <tr>\n",
       "      <th>2</th>\n",
       "      <td>Model 3</td>\n",
       "      <td>0.820870</td>\n",
       "    </tr>\n",
       "  </tbody>\n",
       "</table>\n",
       "</div>"
      ],
      "text/plain": [
       "     Model  ROC AUC Score\n",
       "0  Model 1       0.828834\n",
       "1  Model 2       0.859689\n",
       "2  Model 3       0.820870"
      ]
     },
     "execution_count": 37,
     "metadata": {},
     "output_type": "execute_result"
    }
   ],
   "source": [
    "# DataFrame for modles and their roc auc scores\n",
    "roc_auc_data = pd.DataFrame({\n",
    "    'Model': ['Model 1', 'Model 2', 'Model 3'],\n",
    "    'ROC AUC Score': [roc_auc_model_1, roc_auc_model_2, roc_auc_model_3]\n",
    "})\n",
    "\n",
    "roc_auc_data"
   ]
  },
  {
   "cell_type": "markdown",
   "metadata": {
    "id": "lgRzaV9Yow2R"
   },
   "source": [
    "## Model 1 kNN"
   ]
  },
  {
   "cell_type": "code",
   "execution_count": 38,
   "metadata": {
    "colab": {
     "base_uri": "https://localhost:8080/"
    },
    "id": "eIkiVWaIW5rw",
    "outputId": "89b57b67-5836-4f8d-ad00-165d175369cc"
   },
   "outputs": [
    {
     "name": "stdout",
     "output_type": "stream",
     "text": [
      "Classification Report Model 1: kNN (Cross-Validated):\n",
      "              at_risk  not_at_risk  accuracy   macro avg  weighted avg\n",
      "precision    0.777778     0.702899  0.739927    0.740338      0.742944\n",
      "recall       0.719178     0.763780  0.739927    0.741479      0.739927\n",
      "f1-score     0.747331     0.732075  0.739927    0.739703      0.740234\n",
      "support    146.000000   127.000000  0.739927  273.000000    273.000000\n",
      "\n",
      "Recall: 0.7191780821917808\n",
      "Precision: 0.7777777777777778\n",
      "Specificity: 0.7637795275590551\n"
     ]
    }
   ],
   "source": [
    "# getting recall, precison and specificity\n",
    "# Perform cross-validated predictions\n",
    "y_pred_cv = cross_val_predict(model_1_pipeline, X, y, cv=cv)\n",
    "\n",
    "# Generate a classification report\n",
    "classification_rep_model_1 = pd.DataFrame(classification_report(y, y_pred_cv, digits=4, output_dict=True))\n",
    "\n",
    "# Print the classification report\n",
    "print(f\"Classification Report Model 1: kNN (Cross-Validated):\\n{classification_rep_model_1}\\n\")\n",
    "\n",
    "# Extract the recall for 'at_risk', 'precison', 'specificity'\n",
    "recall_model_1 = classification_rep_model_1['at_risk']['recall']\n",
    "precision_model_1 = classification_rep_model_1['at_risk']['precision']\n",
    "specificity_model_1 = classification_rep_model_1['not_at_risk']['recall']\n",
    "\n",
    "# Print the recall value\n",
    "print(\"Recall:\", recall_model_1)\n",
    "print(\"Precision:\", precision_model_1)\n",
    "print(\"Specificity:\", specificity_model_1)"
   ]
  },
  {
   "cell_type": "markdown",
   "metadata": {
    "id": "E4QjFpd0pPMI"
   },
   "source": [
    "## Model 2 Logistic Regression"
   ]
  },
  {
   "cell_type": "code",
   "execution_count": 39,
   "metadata": {
    "colab": {
     "base_uri": "https://localhost:8080/"
    },
    "id": "Mi7ldAl7W3tq",
    "outputId": "f9054a6c-8711-4fae-f5ad-f184ed86d4b1"
   },
   "outputs": [
    {
     "name": "stdout",
     "output_type": "stream",
     "text": [
      "Classification Report Model 2: Penalized Logistic Regression (Cross-Validated):\n",
      "              at_risk  not_at_risk  accuracy   macro avg  weighted avg\n",
      "precision    0.777778     0.775000  0.776557    0.776389      0.776486\n",
      "recall       0.815068     0.732283  0.776557    0.773676      0.776557\n",
      "f1-score     0.795987     0.753036  0.776557    0.774512      0.776006\n",
      "support    146.000000   127.000000  0.776557  273.000000    273.000000\n",
      "\n",
      "Recall: 0.815068493150685\n",
      "Precision: 0.7777777777777778\n",
      "Specificity: 0.7322834645669292\n"
     ]
    }
   ],
   "source": [
    "# Perform cross-validated predictions\n",
    "y_pred_cv = cross_val_predict(model_2_pipeline, X, y, cv=cv)\n",
    "\n",
    "# Generate a classification report\n",
    "classification_rep_model_2 = pd.DataFrame(classification_report(y, y_pred_cv, digits=4, output_dict=True))\n",
    "\n",
    "# Print the classification report\n",
    "print(f\"Classification Report Model 2: Penalized Logistic Regression (Cross-Validated):\\n{classification_rep_model_2}\\n\")\n",
    "\n",
    "# Extract the recall for 'at_risk', 'precison', 'specificity'\n",
    "recall_model_2 = classification_rep_model_2['at_risk']['recall']\n",
    "precision_model_2 = classification_rep_model_2['at_risk']['precision']\n",
    "specificity_model_2 = classification_rep_model_2['not_at_risk']['recall']\n",
    "\n",
    "# Print the recall value\n",
    "print(\"Recall:\", recall_model_2)\n",
    "print(\"Precision:\", precision_model_2)\n",
    "print(\"Specificity:\", specificity_model_2)"
   ]
  },
  {
   "cell_type": "markdown",
   "metadata": {
    "id": "GfGRcyQopS2G"
   },
   "source": [
    "## Model 3 Decission Tree"
   ]
  },
  {
   "cell_type": "code",
   "execution_count": 40,
   "metadata": {
    "colab": {
     "base_uri": "https://localhost:8080/"
    },
    "id": "yWxj6EOYW46Z",
    "outputId": "3ff016f7-f2b3-48f5-f1d9-cd9539bee48f"
   },
   "outputs": [
    {
     "name": "stdout",
     "output_type": "stream",
     "text": [
      "Classification Report Model 2: Decision Tree Classifier max_depth = 3 (Cross-Validated):\n",
      "              at_risk  not_at_risk  accuracy   macro avg  weighted avg\n",
      "precision    0.816794     0.725352  0.769231    0.771073      0.774255\n",
      "recall       0.732877     0.811024  0.769231    0.771950      0.769231\n",
      "f1-score     0.772563     0.765799  0.769231    0.769181      0.769417\n",
      "support    146.000000   127.000000  0.769231  273.000000    273.000000\n",
      "\n",
      "Recall: 0.7328767123287672\n",
      "Precision: 0.816793893129771\n",
      "Specificity: 0.8110236220472441\n"
     ]
    }
   ],
   "source": [
    "# Perform cross-validated predictions\n",
    "y_pred_cv = cross_val_predict(model_3_pipeline, X, y, cv=cv)\n",
    "\n",
    "# Generate a classification report\n",
    "classification_rep_model_3 = pd.DataFrame(classification_report(y, y_pred_cv, digits=4, output_dict=True))\n",
    "\n",
    "# Print the classification report\n",
    "print(f\"Classification Report Model 2: Decision Tree Classifier max_depth = 3 (Cross-Validated):\\n{classification_rep_model_3}\\n\")\n",
    "\n",
    "# Extract the recall for 'at_risk', 'precison', 'specificity'\n",
    "recall_model_3 = classification_rep_model_3['at_risk']['recall']\n",
    "precision_model_3 = classification_rep_model_3['at_risk']['precision']\n",
    "specificity_model_3 = classification_rep_model_3['not_at_risk']['recall']\n",
    "\n",
    "# Print the recall value\n",
    "print(\"Recall:\", recall_model_3)\n",
    "print(\"Precision:\", precision_model_3)\n",
    "print(\"Specificity:\", specificity_model_3)"
   ]
  },
  {
   "cell_type": "markdown",
   "metadata": {
    "id": "sC5d6WO2Q12W"
   },
   "source": [
    "# Part Three: Discussion"
   ]
  },
  {
   "cell_type": "markdown",
   "metadata": {
    "id": "VzssZed1Q-gf"
   },
   "source": [
    "## Q1 The hospital faces severe lawsuits if they deem a patient to be low risk, and that patient later experiences a heart attack"
   ]
  },
  {
   "cell_type": "markdown",
   "metadata": {
    "id": "v_X8fryaRZO_"
   },
   "source": [
    "- Here they would be concerned with minimizing the False Negative results which means that they would benefit from Recall as the metric by which to select a model. Since they are concerned with not telling someone they are not at risk when they actually are they would want to minimize the times they erroneously deem someone as low risk this is equivalent to minimizing false negatives which exists in the equation for recall.\n",
    "\n",
    "\n",
    "- I would recommend the model that did the best at recall for the not_at_risk being model 3 with a cross validated recall score of 81%.\n",
    "\n",
    "- For future observations we should expect about 81% in recall since this was a cross validated result."
   ]
  },
  {
   "cell_type": "markdown",
   "metadata": {
    "id": "45xHGlTkRC6k"
   },
   "source": [
    "## Q2 The hospital is overfull, and wants to only use bed space for patients most in need of monitoring due to heart attack risk.\n",
    "\n",
    "\n",
    "- This situation seems to be one of concern of precision in identification of those at risk in order to miniize the instances of false positives which is measured by a models precision\n",
    "\n",
    "- I would recommend that they utilize Model 3, a decision tree with all the variables utilzied as it had the highest cross validated score for precision on patients at risk.\n",
    "\n",
    "- This model should be expected to yield a presicion score of about 81%."
   ]
  },
  {
   "cell_type": "markdown",
   "metadata": {
    "id": "-GHRpP7lRDBZ"
   },
   "source": [
    "## Q3 The hospital is studying root causes of heart attacks, and would like to understand which biological measures are associated with heart attack risk.\n",
    "\n",
    "- The hospital should consider utilizing different decision tree models and assess their roc_auc scores as measures of how well the model will be predicting.\n",
    "\n",
    "- I would recommend that they utilize model 3 which is a decision tree model as it will be simple for them to interpret the coefficients whcih have the greatest effect on risk of heart attack with a visualization and mathematical basis.\n",
    "\n",
    "- If they decided to go with my model they should expect to have an AUC score of about 82%."
   ]
  },
  {
   "cell_type": "markdown",
   "metadata": {
    "id": "D6re6ZB7RDHC"
   },
   "source": [
    "## Q4 The hospital is training a new batch of doctors, and they would like to compare the diagnoses of these doctors to the predictions given by the algorithm to measure the ability of new doctors to diagnose patients.\n",
    "\n",
    "- In this instance it seems that the best measure of how well the doctors did in relation to a model would be best captured by using accuracy as measurement.\n",
    "\n",
    "- If we wanted to utilize one of my models the suggestion would be Model 2, a logistic regression model that got an accuracy score of 78%.\n",
    "\n",
    "- One could asses the doctors ability to see the number of correct predictions over the number of total predictions to asses what the accuracy was, with my model they can expect to compare themselves to a model with 78% accuracy."
   ]
  },
  {
   "cell_type": "markdown",
   "metadata": {
    "id": "66npbid7RDNg"
   },
   "source": [
    "# Part Four: Validation"
   ]
  },
  {
   "cell_type": "code",
   "execution_count": 41,
   "metadata": {
    "id": "b7ts5egIMseD"
   },
   "outputs": [],
   "source": [
    "ha_val = pd.read_csv(\"https://www.dropbox.com/s/jkwqdiyx6o6oad0/heart_attack_validation.csv?dl=1\")"
   ]
  },
  {
   "cell_type": "markdown",
   "metadata": {
    "id": "mtW2xf4WB0bV"
   },
   "source": [
    "## Validation Data Cleaning"
   ]
  },
  {
   "cell_type": "code",
   "execution_count": 42,
   "metadata": {
    "id": "KRRe8ihNB36L"
   },
   "outputs": [],
   "source": [
    "#mapping the CP categrories for clarity\n",
    "\n",
    "# Define a mapping for the new categories\n",
    "cp_mapping = {\n",
    "    0: 'typical angina',\n",
    "    1: 'atypical angina',\n",
    "    2: 'non-anginal pain',\n",
    "    3: 'asymptomatic'\n",
    "}\n",
    "\n",
    "# Replace values in the \"cp\" column with the new categories\n",
    "ha_val['cp'] = ha_val['cp'].replace(cp_mapping)\n",
    "\n",
    "# Display the updated dataset\n",
    "#ha_val.head()"
   ]
  },
  {
   "cell_type": "code",
   "execution_count": 43,
   "metadata": {
    "id": "m8m0bc1CCFZv"
   },
   "outputs": [],
   "source": [
    "# Define a mapping for the new categories\n",
    "restecg_mapping = {\n",
    "    0: 'normal',\n",
    "    1: 'abnormal',\n",
    "    2: 'prob/def'\n",
    "}\n",
    "\n",
    "# Replace values in the \"restecg\" column with the new categories\n",
    "ha_val['restecg'] = ha_val['restecg'].replace(restecg_mapping)\n",
    "\n",
    "# Display the updated dataset\n",
    "#ha_val.head()"
   ]
  },
  {
   "cell_type": "code",
   "execution_count": 44,
   "metadata": {
    "id": "0MgSk4tPCPdR"
   },
   "outputs": [],
   "source": [
    "# Define a mapping for the new categories\n",
    "sex_mapping = {\n",
    "    0: 'female',\n",
    "    1: 'male',\n",
    "}\n",
    "\n",
    "# Replace values in the \"restecg\" column with the new categories\n",
    "ha_val['sex'] = ha_val['sex'].replace(sex_mapping)\n",
    "\n",
    "# Convert the \"sex\" column to object type\n",
    "ha_val['sex'] = ha_val['sex'].astype('object')\n",
    "\n",
    "# Display the updated dataset\n",
    "#ha_val.head()"
   ]
  },
  {
   "cell_type": "code",
   "execution_count": 45,
   "metadata": {
    "id": "ZoIUgNEVCPmm"
   },
   "outputs": [],
   "source": [
    "# Define a mapping for the new categories\n",
    "output_mapping = {\n",
    "    0: 'not_at_risk',\n",
    "    1: 'at_risk'\n",
    "}\n",
    "\n",
    "# Replace values in the \"restecg\" column with the new categories\n",
    "ha_val['output'] = ha_val['output'].replace(output_mapping)\n",
    "\n",
    "# Display the updated dataset\n",
    "#ha_val.head()"
   ]
  },
  {
   "cell_type": "markdown",
   "metadata": {
    "id": "BYwzT0ZH-qKc"
   },
   "source": [
    "## Model 1 Validation"
   ]
  },
  {
   "cell_type": "code",
   "execution_count": 46,
   "metadata": {
    "id": "6r40at0ZMsf_"
   },
   "outputs": [],
   "source": [
    "#creating our validation target and predictor\n",
    "X_val= ha_val.drop(['output'], axis=1)\n",
    "y_val= ha_val['output']"
   ]
  },
  {
   "cell_type": "code",
   "execution_count": 47,
   "metadata": {
    "colab": {
     "base_uri": "https://localhost:8080/"
    },
    "id": "afOHexw2_yMe",
    "outputId": "8559e1f0-0074-4363-f3a6-227046ec1bff"
   },
   "outputs": [
    {
     "name": "stdout",
     "output_type": "stream",
     "text": [
      "Metrics for Model_1 :\n",
      "\n",
      "Confusion Matrix for Model_1 : \n",
      "\n",
      "             at_risk  not_at_risk\n",
      "at_risk           10            9\n",
      "not_at_risk        0           11\n",
      "\n",
      "AUC Score Model_2 on Validation Set:\n",
      " 0.8205741626794258 \n",
      "\n",
      "Recall and Precision Scores for Model_1 on Validation:\n",
      "Recall: 0.5263157894736842\n",
      "Precision: 1.0\n"
     ]
    }
   ],
   "source": [
    "#fitting the model on training set\n",
    "model_1 = model_1_pipeline.fit(X, y)\n",
    "\n",
    "#predictions for the test data\n",
    "model_1_test_pred = model_1.predict(X_val)\n",
    "\n",
    "# Metrics for Model 1\n",
    "print(\"Metrics for Model_1 :\\n\")\n",
    "\n",
    "# Confusion matrix\n",
    "uni_classes = y_val.unique() #getting the unique classes in the Y variale\n",
    "conf_matrix_test = confusion_matrix(y_val, model_1_test_pred) # making the matrix\n",
    "class_names = uni_classes.tolist() # Putting the classes to a list\n",
    "conf_matrix_df = pd.DataFrame(conf_matrix_test, index=class_names, columns=class_names) # Display the confusion matrix with class labels\n",
    "print(\"Confusion Matrix for Model_1 : \\n\")\n",
    "print(f\"{conf_matrix_df}\\n\")\n",
    "\n",
    "# ROC AUC calculation\n",
    "y_pred_proba = model_1.predict_proba(X_val)[:, 1] # Get predicted probabilities for the positive class (assuming binary classification)\n",
    "roc_auc_model_1_val = roc_auc_score(y_val, y_pred_proba) # Calculate ROC AUC score on the test set\n",
    "print(\"AUC Score Model_2 on Validation Set:\\n\", roc_auc_model_1_val, \"\\n\")\n",
    "\n",
    "# Classification Report\n",
    "#print(\"Classification Report on Validation Set: \\n\")\n",
    "recall_scores = classification_report(y_val, model_1_test_pred, output_dict=True) # Classification Report\n",
    "recall_scores = pd.DataFrame(recall_scores)\n",
    "#print(recall_scores)\n",
    "\n",
    "# Extract the recall for 'at_risk', 'precison', 'specificity'\n",
    "recall_model_1_val = recall_scores['at_risk']['recall']\n",
    "precision_model_1_val = recall_scores['at_risk']['precision']\n",
    "specificity_model_1_val = recall_scores['not_at_risk']['recall']\n",
    "\n",
    "# Print the recall value\n",
    "print(\"Recall and Precision Scores for Model_1 on Validation:\")\n",
    "print(\"Recall:\", recall_model_1_val)\n",
    "print(\"Precision:\", precision_model_1_val)"
   ]
  },
  {
   "cell_type": "markdown",
   "metadata": {
    "id": "iVXDAuhN_osN"
   },
   "source": [
    "## Model 2 Validation\n"
   ]
  },
  {
   "cell_type": "code",
   "execution_count": 48,
   "metadata": {
    "colab": {
     "base_uri": "https://localhost:8080/"
    },
    "id": "wn7WYT9c_yXc",
    "outputId": "3705d4ba-f2ca-4d2d-f6f8-2343f181e79c"
   },
   "outputs": [
    {
     "name": "stdout",
     "output_type": "stream",
     "text": [
      "Metrics for Model_2 :\n",
      "\n",
      "Confusion Matrix for Model_2 : \n",
      "\n",
      "             at_risk  not_at_risk\n",
      "at_risk           14            5\n",
      "not_at_risk        2            9\n",
      "\n",
      "AUC Score Model_2 on Validation Set:\n",
      " 0.8851674641148326 \n",
      "\n",
      "Recall and Precision Scores for Model_2 on Validation:\n",
      "Recall: 0.7368421052631579\n",
      "Precision: 0.875\n"
     ]
    }
   ],
   "source": [
    "#fitting the model on test set\n",
    "model_2 = model_2_pipeline.fit(X, y)\n",
    "\n",
    "#predictions for the test data\n",
    "model_2_test_pred = model_2.predict(X_val)\n",
    "\n",
    "# Metrics for Model 2\n",
    "print(\"Metrics for Model_2 :\\n\")\n",
    "\n",
    "# Confusion matrix\n",
    "uni_classes = y_val.unique() #getting the unique classes in the Y variale\n",
    "conf_matrix_test = confusion_matrix(y_val, model_2_test_pred) # making the matrix\n",
    "class_names = uni_classes.tolist() # Putting the classes to a list\n",
    "conf_matrix_df = pd.DataFrame(conf_matrix_test, index=class_names, columns=class_names) # Display the confusion matrix with class labels\n",
    "print(\"Confusion Matrix for Model_2 : \\n\")\n",
    "print(f\"{conf_matrix_df}\\n\")\n",
    "\n",
    "# ROC AUC calculation\n",
    "y_pred_proba = model_2.predict_proba(X_val)[:, 1] # Get predicted probabilities for the positive class (assuming binary classification)\n",
    "roc_auc_model_2_val = roc_auc_score(y_val, y_pred_proba) # Calculate ROC AUC score on the test set\n",
    "print(\"AUC Score Model_2 on Validation Set:\\n\", roc_auc_model_2_val, \"\\n\")\n",
    "\n",
    "# Classification Report\n",
    "#print(\"Classification Report on Validation Set: \\n\")\n",
    "recall_scores = classification_report(y_val, model_2_test_pred, output_dict=True) # Classification Report\n",
    "recall_scores = pd.DataFrame(recall_scores)\n",
    "#print(recall_scores)\n",
    "\n",
    "# Extract the recall for 'at_risk', 'precison', 'specificity'\n",
    "recall_model_2_val = recall_scores['at_risk']['recall']\n",
    "precision_model_2_val = recall_scores['at_risk']['precision']\n",
    "specificity_model_2_val = recall_scores['not_at_risk']['recall']\n",
    "\n",
    "# Print the recall value\n",
    "print(\"Recall and Precision Scores for Model_2 on Validation:\")\n",
    "print(\"Recall:\", recall_model_2_val)\n",
    "print(\"Precision:\", precision_model_2_val)"
   ]
  },
  {
   "cell_type": "markdown",
   "metadata": {
    "id": "MYP8PFQz_o5Y"
   },
   "source": [
    "## Model 3 Validation"
   ]
  },
  {
   "cell_type": "code",
   "execution_count": 49,
   "metadata": {
    "colab": {
     "base_uri": "https://localhost:8080/"
    },
    "id": "T4AK_L9L_ydh",
    "outputId": "d543578b-9eec-4b46-9317-70529cd3a5da"
   },
   "outputs": [
    {
     "name": "stdout",
     "output_type": "stream",
     "text": [
      "Metrics for Model_3 :\n",
      "\n",
      "Confusion Matrix for Model_3 : \n",
      "\n",
      "             at_risk  not_at_risk\n",
      "at_risk           12            7\n",
      "not_at_risk        3            8\n",
      "\n",
      "AUC Score Model_3 on Validation Set:\n",
      " 0.777511961722488 \n",
      "\n",
      "Recall and Precision Scores for Model_3 on Validation:\n",
      "Recall: 0.631578947368421\n",
      "Precision: 0.8\n"
     ]
    }
   ],
   "source": [
    "#fitting the model on test set\n",
    "model_3 = model_3_pipeline.fit(X, y)\n",
    "\n",
    "#predictions for the test data\n",
    "model_3_test_pred = model_3.predict(X_val)\n",
    "\n",
    "# Metrics for Model 3\n",
    "print(\"Metrics for Model_3 :\\n\")\n",
    "\n",
    "# Confusion matrix\n",
    "uni_classes = y_val.unique() #getting the unique classes in the Y variale\n",
    "conf_matrix_test = confusion_matrix(y_val, model_3_test_pred) # making the matrix\n",
    "class_names = uni_classes.tolist() # Putting the classes to a list\n",
    "conf_matrix_df = pd.DataFrame(conf_matrix_test, index=class_names, columns=class_names) # Display the confusion matrix with class labels\n",
    "print(\"Confusion Matrix for Model_3 : \\n\")\n",
    "print(f\"{conf_matrix_df}\\n\")\n",
    "\n",
    "# ROC AUC calculation\n",
    "y_pred_proba = model_3.predict_proba(X_val)[:, 1] # Get predicted probabilities for the positive class (assuming binary classification)\n",
    "roc_auc_model_3_val = roc_auc_score(y_val, y_pred_proba) # Calculate ROC AUC score on the test set\n",
    "print(\"AUC Score Model_3 on Validation Set:\\n\", roc_auc_model_3_val, \"\\n\")\n",
    "\n",
    "# Classification Report\n",
    "#print(\"Classification Report on Validation Set: \\n\")\n",
    "recall_scores = classification_report(y_val, model_3_test_pred, output_dict=True) # Classification Report\n",
    "recall_scores = pd.DataFrame(recall_scores)\n",
    "#print(recall_scores)\n",
    "\n",
    "# Extract the recall for 'at_risk', 'precison', 'specificity'\n",
    "recall_model_3_val = recall_scores['at_risk']['recall']\n",
    "precision_model_3_val = recall_scores['at_risk']['precision']\n",
    "specificity_model_3_val = recall_scores['not_at_risk']['recall']\n",
    "\n",
    "# Print the recall value\n",
    "print(\"Recall and Precision Scores for Model_3 on Validation:\")\n",
    "print(\"Recall:\", recall_model_3_val)\n",
    "print(\"Precision:\", precision_model_3_val)"
   ]
  },
  {
   "cell_type": "markdown",
   "metadata": {
    "id": "bborLRhcvkiu"
   },
   "source": [
    "## Test & Validation Comparisons"
   ]
  },
  {
   "cell_type": "code",
   "execution_count": 50,
   "metadata": {
    "colab": {
     "base_uri": "https://localhost:8080/",
     "height": 143
    },
    "id": "cPWzmMwXqvsW",
    "outputId": "60f2bab3-dd77-4b81-c926-44df6a0e1230"
   },
   "outputs": [
    {
     "data": {
      "text/html": [
       "<div>\n",
       "<style scoped>\n",
       "    .dataframe tbody tr th:only-of-type {\n",
       "        vertical-align: middle;\n",
       "    }\n",
       "\n",
       "    .dataframe tbody tr th {\n",
       "        vertical-align: top;\n",
       "    }\n",
       "\n",
       "    .dataframe thead th {\n",
       "        text-align: right;\n",
       "    }\n",
       "</style>\n",
       "<table border=\"1\" class=\"dataframe\">\n",
       "  <thead>\n",
       "    <tr style=\"text-align: right;\">\n",
       "      <th></th>\n",
       "      <th>Model</th>\n",
       "      <th>Test_ROC_AUC_Score</th>\n",
       "      <th>Val_ROC_AUC_Score</th>\n",
       "      <th>Test_Recall_Score</th>\n",
       "      <th>Val_Recall_Score</th>\n",
       "      <th>Test_Precision_Score</th>\n",
       "      <th>Val_Precision_Score</th>\n",
       "    </tr>\n",
       "  </thead>\n",
       "  <tbody>\n",
       "    <tr>\n",
       "      <th>0</th>\n",
       "      <td>Model 1</td>\n",
       "      <td>0.828834</td>\n",
       "      <td>0.820574</td>\n",
       "      <td>0.719178</td>\n",
       "      <td>0.526316</td>\n",
       "      <td>0.777778</td>\n",
       "      <td>1.000</td>\n",
       "    </tr>\n",
       "    <tr>\n",
       "      <th>1</th>\n",
       "      <td>Model 2</td>\n",
       "      <td>0.859689</td>\n",
       "      <td>0.885167</td>\n",
       "      <td>0.815068</td>\n",
       "      <td>0.736842</td>\n",
       "      <td>0.777778</td>\n",
       "      <td>0.875</td>\n",
       "    </tr>\n",
       "    <tr>\n",
       "      <th>2</th>\n",
       "      <td>Model 3</td>\n",
       "      <td>0.820870</td>\n",
       "      <td>0.777512</td>\n",
       "      <td>0.732877</td>\n",
       "      <td>0.631579</td>\n",
       "      <td>0.816794</td>\n",
       "      <td>0.800</td>\n",
       "    </tr>\n",
       "  </tbody>\n",
       "</table>\n",
       "</div>"
      ],
      "text/plain": [
       "     Model  Test_ROC_AUC_Score  Val_ROC_AUC_Score  Test_Recall_Score  \\\n",
       "0  Model 1            0.828834           0.820574           0.719178   \n",
       "1  Model 2            0.859689           0.885167           0.815068   \n",
       "2  Model 3            0.820870           0.777512           0.732877   \n",
       "\n",
       "   Val_Recall_Score  Test_Precision_Score  Val_Precision_Score  \n",
       "0          0.526316              0.777778                1.000  \n",
       "1          0.736842              0.777778                0.875  \n",
       "2          0.631579              0.816794                0.800  "
      ]
     },
     "execution_count": 50,
     "metadata": {},
     "output_type": "execute_result"
    }
   ],
   "source": [
    "# DataFrame for modles and their roc auc scores\n",
    "roc_auc_data = pd.DataFrame({\n",
    "    'Model': ['Model 1', 'Model 2', 'Model 3'],\n",
    "    'Test_ROC_AUC_Score': [roc_auc_model_1, roc_auc_model_2, roc_auc_model_3],\n",
    "    'Val_ROC_AUC_Score': [roc_auc_model_1_val, roc_auc_model_2_val, roc_auc_model_3_val],\n",
    "    'Test_Recall_Score': [recall_model_1, recall_model_2, recall_model_3],\n",
    "    'Val_Recall_Score': [recall_model_1_val, recall_model_2_val, recall_model_3_val],\n",
    "    'Test_Precision_Score': [precision_model_1, precision_model_2, precision_model_3],\n",
    "    'Val_Precision_Score': [precision_model_1_val, precision_model_2_val, precision_model_3_val]\n",
    "})\n",
    "\n",
    "roc_auc_data"
   ]
  },
  {
   "cell_type": "markdown",
   "metadata": {
    "id": "nPtSLXhTpnDN"
   },
   "source": [
    "In terms of closeness ot the validaiton set from the test set, the best omdel would have to be Model 2, logistic regression. In fact, in some instances this model even outperformed itself from the training to the test set. The rest of the models were close as well but they had differences that negatively impacted their predictive power when it came to the test set. Perhaps this is due to the penalized method that was utilized with Model 2 since we know that a bias in the coefficinets at times results to poor prediction on the training data with at times higher predictive power on new data."
   ]
  },
  {
   "cell_type": "markdown",
   "metadata": {
    "id": "v3NXUmaFEdis"
   },
   "source": [
    "# Part Five: Cohen’s Kappa"
   ]
  },
  {
   "cell_type": "code",
   "execution_count": 51,
   "metadata": {
    "id": "1fhK5icbFAKJ"
   },
   "outputs": [],
   "source": [
    "from sklearn.metrics import cohen_kappa_score"
   ]
  },
  {
   "cell_type": "markdown",
   "metadata": {
    "id": "tJbHGG7Ef331"
   },
   "source": [
    "## Model 1 Cohen's Kappa"
   ]
  },
  {
   "cell_type": "code",
   "execution_count": 52,
   "metadata": {
    "colab": {
     "base_uri": "https://localhost:8080/"
    },
    "id": "FbMa3-aff3I-",
    "outputId": "bd7706f4-5195-4e7d-dc1e-5938ef72f69b"
   },
   "outputs": [
    {
     "name": "stdout",
     "output_type": "stream",
     "text": [
      "Cohen's Kappa Test Score: 0.4809741311402031\n"
     ]
    }
   ],
   "source": [
    "# Cross Validated Cohens Kappa for the test set\n",
    "kappa_score_test_model_1 = np.mean(cross_val_score(model_1_pipeline, X, y, cv=cv, scoring=make_scorer(cohen_kappa_score)))\n",
    "print(f\"Cohen's Kappa Test Score: {kappa_score_test_model_1}\")"
   ]
  },
  {
   "cell_type": "code",
   "execution_count": 53,
   "metadata": {
    "colab": {
     "base_uri": "https://localhost:8080/"
    },
    "id": "3IR-nsu1Ehyp",
    "outputId": "28abdb16-1c8f-479b-aca0-6fe8a9930686"
   },
   "outputs": [
    {
     "name": "stdout",
     "output_type": "stream",
     "text": [
      "Cohen's Kappa Validation Score: 0.44897959183673464\n"
     ]
    }
   ],
   "source": [
    "# Kappa_score for validation set\n",
    "kappa_score_val_model_1 = cohen_kappa_score(y_val, model_1_test_pred)\n",
    "print(f\"Cohen's Kappa Validation Score: {kappa_score_val_model_1}\")"
   ]
  },
  {
   "cell_type": "markdown",
   "metadata": {
    "id": "LDtvAFwXf8XF"
   },
   "source": [
    "## Model 2 Cohen's Kappa"
   ]
  },
  {
   "cell_type": "code",
   "execution_count": 54,
   "metadata": {
    "colab": {
     "base_uri": "https://localhost:8080/"
    },
    "id": "6KZ8fQEsiC13",
    "outputId": "361c2be1-c561-4a73-8a70-4ecfcbdcece3"
   },
   "outputs": [
    {
     "name": "stdout",
     "output_type": "stream",
     "text": [
      "Cohen's Kappa Test Score: 0.5493988184781486\n"
     ]
    }
   ],
   "source": [
    "# Cross Validated Cohens Kappa for the test set\n",
    "kappa_score_test_model_2 = np.mean(cross_val_score(model_2_pipeline, X, y, cv=cv, scoring=make_scorer(cohen_kappa_score)))\n",
    "print(f\"Cohen's Kappa Test Score: {kappa_score_test_model_2}\")"
   ]
  },
  {
   "cell_type": "code",
   "execution_count": 55,
   "metadata": {
    "colab": {
     "base_uri": "https://localhost:8080/"
    },
    "id": "lolHbEZnFGj_",
    "outputId": "ee1846c6-1aa1-4e9b-be21-87a16390dcc9"
   },
   "outputs": [
    {
     "name": "stdout",
     "output_type": "stream",
     "text": [
      "Cohen's Kappa Validation Score: 0.5248868778280543\n"
     ]
    }
   ],
   "source": [
    "# Kappa_score for validation set\n",
    "kappa_score_val_model_2 = cohen_kappa_score(y_val, model_2_test_pred)\n",
    "print(f\"Cohen's Kappa Validation Score: {kappa_score_val_model_2}\")"
   ]
  },
  {
   "cell_type": "markdown",
   "metadata": {
    "id": "CAQVwI3fgAU4"
   },
   "source": [
    "## Model 3 Cohen's Kappa"
   ]
  },
  {
   "cell_type": "code",
   "execution_count": 56,
   "metadata": {
    "colab": {
     "base_uri": "https://localhost:8080/"
    },
    "id": "ydlI5EdFj9Tw",
    "outputId": "889bc7ef-7df3-4c24-d450-10ebc1df5a1c"
   },
   "outputs": [
    {
     "name": "stdout",
     "output_type": "stream",
     "text": [
      "Cohen's Kappa Test Score: 0.5412904192980444\n"
     ]
    }
   ],
   "source": [
    "# Cross Validated Cohens Kappa for the test set\n",
    "kappa_score_test_model_3 = np.mean(cross_val_score(model_3_pipeline, X, y, cv=cv, scoring=make_scorer(cohen_kappa_score)))\n",
    "print(f\"Cohen's Kappa Test Score: {kappa_score_test_model_3}\")"
   ]
  },
  {
   "cell_type": "code",
   "execution_count": 57,
   "metadata": {
    "colab": {
     "base_uri": "https://localhost:8080/"
    },
    "id": "NeIjg968FH6m",
    "outputId": "02d4a208-5640-4f5c-965a-4e94a66f685b"
   },
   "outputs": [
    {
     "name": "stdout",
     "output_type": "stream",
     "text": [
      "Cohen's Kappa Validation Score: 0.33333333333333337\n"
     ]
    }
   ],
   "source": [
    "# Kappa_score for validation set\n",
    "kappa_score_val_model_3 = cohen_kappa_score(y_val, model_3_test_pred)\n",
    "print(f\"Cohen's Kappa Validation Score: {kappa_score_val_model_3}\")"
   ]
  },
  {
   "cell_type": "markdown",
   "metadata": {
    "id": "OIGx9LzVTolD"
   },
   "source": [
    "## Conclusions"
   ]
  },
  {
   "cell_type": "markdown",
   "metadata": {
    "id": "iwFq1aWuTrcF"
   },
   "source": [
    "Cohen's Kappa score accounts for possible imbalances in the data set. When we did our preliminary analysis we found that of those not at risk in the training data, only 17% of them were female and 83% were male, the imbalances created by this suggest that something like a decision tree model would have a harder time splitting between classes when it went to do so.\n",
    "\n",
    "Of course something like this could be mitigated with trying different models without the variable sex and tuning and training them with other variables. However, in our recommendations prior to Cohen's Kappa the model that was preffered continued to be model 2 with the cros validated results.\n",
    "\n",
    "When we ran the models on the testing data set, effectively trying to predict on unseen data the results for which model performed the best were not as conclusive as before. Model 3 actually got worse results with the test set indicating that the prior results could have been an indication of overfitting to the triaing data. Similarly Model 1 performed poorer on some aspects on the testing data when compared to the training data.\n",
    "\n",
    "The most conclusive model and one that would perhaps be the best in terms of how well it performed on its predictions after trying it on the testing data was Model 2 with logistic regression. I believe this makes sense as it was the model that was most tuned and penalized the regression coefficients in such a way to try and remove the issue of overfitting the most.\n",
    "\n",
    "Cohen's Kappa would be a good metric to use when the data that is had is limited, or there were clear imbalances in the classes that one was trying to predict on. It should be considered after other metrics are considered and the right tuning of models has already occured to deal with issues of overfitting. In the future this lab could perhaps be better tried separating the data sets based on sex, and or trying different combintions of variables to see what model truly is able to predict heart attack risk the best."
   ]
  },
  {
   "cell_type": "code",
   "execution_count": 58,
   "metadata": {},
   "outputs": [
    {
     "data": {
      "text/plain": [
       "['heart_attack_model.pkl']"
      ]
     },
     "execution_count": 58,
     "metadata": {},
     "output_type": "execute_result"
    }
   ],
   "source": [
    "import joblib\n",
    "\n",
    "# Save the preprocessing steps and model\n",
    "joblib.dump(model_3_pipeline, 'heart_attack_model.pkl')  # Assuming your final model pipeline is 'model_3_pipeline'\n"
   ]
  }
 ],
 "metadata": {
  "colab": {
   "provenance": []
  },
  "kernelspec": {
   "display_name": "venv",
   "language": "python",
   "name": "python3"
  },
  "language_info": {
   "codemirror_mode": {
    "name": "ipython",
    "version": 3
   },
   "file_extension": ".py",
   "mimetype": "text/x-python",
   "name": "python",
   "nbconvert_exporter": "python",
   "pygments_lexer": "ipython3",
   "version": "3.10.11"
  }
 },
 "nbformat": 4,
 "nbformat_minor": 1
}
